{
  "cells": [
    {
      "cell_type": "markdown",
      "source": [
        "# Cài đặt"
      ],
      "metadata": {
        "id": "Yhcw9zPBcd72"
      }
    },
    {
      "cell_type": "code",
      "source": [
        "!pip install underthesea"
      ],
      "metadata": {
        "colab": {
          "base_uri": "https://localhost:8080/"
        },
        "id": "t3856VBfMz_w",
        "outputId": "26f6e7a5-c86e-4b82-b465-5d53ce461a70"
      },
      "execution_count": 1,
      "outputs": [
        {
          "output_type": "stream",
          "name": "stdout",
          "text": [
            "Collecting underthesea\n",
            "  Downloading underthesea-6.8.4-py3-none-any.whl.metadata (15 kB)\n",
            "Requirement already satisfied: Click>=6.0 in /usr/local/lib/python3.10/dist-packages (from underthesea) (8.1.7)\n",
            "Collecting python-crfsuite>=0.9.6 (from underthesea)\n",
            "  Downloading python_crfsuite-0.9.11-cp310-cp310-manylinux_2_17_x86_64.manylinux2014_x86_64.whl.metadata (4.3 kB)\n",
            "Requirement already satisfied: nltk in /usr/local/lib/python3.10/dist-packages (from underthesea) (3.8.1)\n",
            "Requirement already satisfied: tqdm in /usr/local/lib/python3.10/dist-packages (from underthesea) (4.66.5)\n",
            "Requirement already satisfied: requests in /usr/local/lib/python3.10/dist-packages (from underthesea) (2.32.3)\n",
            "Requirement already satisfied: joblib in /usr/local/lib/python3.10/dist-packages (from underthesea) (1.4.2)\n",
            "Requirement already satisfied: scikit-learn in /usr/local/lib/python3.10/dist-packages (from underthesea) (1.5.2)\n",
            "Requirement already satisfied: PyYAML in /usr/local/lib/python3.10/dist-packages (from underthesea) (6.0.2)\n",
            "Collecting underthesea-core==1.0.4 (from underthesea)\n",
            "  Downloading underthesea_core-1.0.4-cp310-cp310-manylinux2010_x86_64.whl.metadata (1.7 kB)\n",
            "Requirement already satisfied: regex>=2021.8.3 in /usr/local/lib/python3.10/dist-packages (from nltk->underthesea) (2024.9.11)\n",
            "Requirement already satisfied: charset-normalizer<4,>=2 in /usr/local/lib/python3.10/dist-packages (from requests->underthesea) (3.4.0)\n",
            "Requirement already satisfied: idna<4,>=2.5 in /usr/local/lib/python3.10/dist-packages (from requests->underthesea) (3.10)\n",
            "Requirement already satisfied: urllib3<3,>=1.21.1 in /usr/local/lib/python3.10/dist-packages (from requests->underthesea) (2.2.3)\n",
            "Requirement already satisfied: certifi>=2017.4.17 in /usr/local/lib/python3.10/dist-packages (from requests->underthesea) (2024.8.30)\n",
            "Requirement already satisfied: numpy>=1.19.5 in /usr/local/lib/python3.10/dist-packages (from scikit-learn->underthesea) (1.26.4)\n",
            "Requirement already satisfied: scipy>=1.6.0 in /usr/local/lib/python3.10/dist-packages (from scikit-learn->underthesea) (1.13.1)\n",
            "Requirement already satisfied: threadpoolctl>=3.1.0 in /usr/local/lib/python3.10/dist-packages (from scikit-learn->underthesea) (3.5.0)\n",
            "Downloading underthesea-6.8.4-py3-none-any.whl (20.9 MB)\n",
            "\u001b[2K   \u001b[90m━━━━━━━━━━━━━━━━━━━━━━━━━━━━━━━━━━━━━━━━\u001b[0m \u001b[32m20.9/20.9 MB\u001b[0m \u001b[31m58.3 MB/s\u001b[0m eta \u001b[36m0:00:00\u001b[0m\n",
            "\u001b[?25hDownloading underthesea_core-1.0.4-cp310-cp310-manylinux2010_x86_64.whl (657 kB)\n",
            "\u001b[2K   \u001b[90m━━━━━━━━━━━━━━━━━━━━━━━━━━━━━━━━━━━━━━━━\u001b[0m \u001b[32m657.8/657.8 kB\u001b[0m \u001b[31m32.0 MB/s\u001b[0m eta \u001b[36m0:00:00\u001b[0m\n",
            "\u001b[?25hDownloading python_crfsuite-0.9.11-cp310-cp310-manylinux_2_17_x86_64.manylinux2014_x86_64.whl (1.2 MB)\n",
            "\u001b[2K   \u001b[90m━━━━━━━━━━━━━━━━━━━━━━━━━━━━━━━━━━━━━━━━\u001b[0m \u001b[32m1.2/1.2 MB\u001b[0m \u001b[31m42.2 MB/s\u001b[0m eta \u001b[36m0:00:00\u001b[0m\n",
            "\u001b[?25hInstalling collected packages: underthesea-core, python-crfsuite, underthesea\n",
            "Successfully installed python-crfsuite-0.9.11 underthesea-6.8.4 underthesea-core-1.0.4\n"
          ]
        }
      ]
    },
    {
      "cell_type": "code",
      "source": [
        "!pip install tensorflow"
      ],
      "metadata": {
        "colab": {
          "base_uri": "https://localhost:8080/"
        },
        "id": "4TTUlm0EZ3LI",
        "outputId": "88910b3c-d468-48e2-a9f5-688a11de2720"
      },
      "execution_count": 2,
      "outputs": [
        {
          "output_type": "stream",
          "name": "stdout",
          "text": [
            "Requirement already satisfied: tensorflow in /usr/local/lib/python3.10/dist-packages (2.17.0)\n",
            "Requirement already satisfied: absl-py>=1.0.0 in /usr/local/lib/python3.10/dist-packages (from tensorflow) (1.4.0)\n",
            "Requirement already satisfied: astunparse>=1.6.0 in /usr/local/lib/python3.10/dist-packages (from tensorflow) (1.6.3)\n",
            "Requirement already satisfied: flatbuffers>=24.3.25 in /usr/local/lib/python3.10/dist-packages (from tensorflow) (24.3.25)\n",
            "Requirement already satisfied: gast!=0.5.0,!=0.5.1,!=0.5.2,>=0.2.1 in /usr/local/lib/python3.10/dist-packages (from tensorflow) (0.6.0)\n",
            "Requirement already satisfied: google-pasta>=0.1.1 in /usr/local/lib/python3.10/dist-packages (from tensorflow) (0.2.0)\n",
            "Requirement already satisfied: h5py>=3.10.0 in /usr/local/lib/python3.10/dist-packages (from tensorflow) (3.11.0)\n",
            "Requirement already satisfied: libclang>=13.0.0 in /usr/local/lib/python3.10/dist-packages (from tensorflow) (18.1.1)\n",
            "Requirement already satisfied: ml-dtypes<0.5.0,>=0.3.1 in /usr/local/lib/python3.10/dist-packages (from tensorflow) (0.4.1)\n",
            "Requirement already satisfied: opt-einsum>=2.3.2 in /usr/local/lib/python3.10/dist-packages (from tensorflow) (3.4.0)\n",
            "Requirement already satisfied: packaging in /usr/local/lib/python3.10/dist-packages (from tensorflow) (24.1)\n",
            "Requirement already satisfied: protobuf!=4.21.0,!=4.21.1,!=4.21.2,!=4.21.3,!=4.21.4,!=4.21.5,<5.0.0dev,>=3.20.3 in /usr/local/lib/python3.10/dist-packages (from tensorflow) (3.20.3)\n",
            "Requirement already satisfied: requests<3,>=2.21.0 in /usr/local/lib/python3.10/dist-packages (from tensorflow) (2.32.3)\n",
            "Requirement already satisfied: setuptools in /usr/local/lib/python3.10/dist-packages (from tensorflow) (75.1.0)\n",
            "Requirement already satisfied: six>=1.12.0 in /usr/local/lib/python3.10/dist-packages (from tensorflow) (1.16.0)\n",
            "Requirement already satisfied: termcolor>=1.1.0 in /usr/local/lib/python3.10/dist-packages (from tensorflow) (2.5.0)\n",
            "Requirement already satisfied: typing-extensions>=3.6.6 in /usr/local/lib/python3.10/dist-packages (from tensorflow) (4.12.2)\n",
            "Requirement already satisfied: wrapt>=1.11.0 in /usr/local/lib/python3.10/dist-packages (from tensorflow) (1.16.0)\n",
            "Requirement already satisfied: grpcio<2.0,>=1.24.3 in /usr/local/lib/python3.10/dist-packages (from tensorflow) (1.64.1)\n",
            "Requirement already satisfied: tensorboard<2.18,>=2.17 in /usr/local/lib/python3.10/dist-packages (from tensorflow) (2.17.0)\n",
            "Requirement already satisfied: keras>=3.2.0 in /usr/local/lib/python3.10/dist-packages (from tensorflow) (3.4.1)\n",
            "Requirement already satisfied: tensorflow-io-gcs-filesystem>=0.23.1 in /usr/local/lib/python3.10/dist-packages (from tensorflow) (0.37.1)\n",
            "Requirement already satisfied: numpy<2.0.0,>=1.23.5 in /usr/local/lib/python3.10/dist-packages (from tensorflow) (1.26.4)\n",
            "Requirement already satisfied: wheel<1.0,>=0.23.0 in /usr/local/lib/python3.10/dist-packages (from astunparse>=1.6.0->tensorflow) (0.44.0)\n",
            "Requirement already satisfied: rich in /usr/local/lib/python3.10/dist-packages (from keras>=3.2.0->tensorflow) (13.9.2)\n",
            "Requirement already satisfied: namex in /usr/local/lib/python3.10/dist-packages (from keras>=3.2.0->tensorflow) (0.0.8)\n",
            "Requirement already satisfied: optree in /usr/local/lib/python3.10/dist-packages (from keras>=3.2.0->tensorflow) (0.13.0)\n",
            "Requirement already satisfied: charset-normalizer<4,>=2 in /usr/local/lib/python3.10/dist-packages (from requests<3,>=2.21.0->tensorflow) (3.4.0)\n",
            "Requirement already satisfied: idna<4,>=2.5 in /usr/local/lib/python3.10/dist-packages (from requests<3,>=2.21.0->tensorflow) (3.10)\n",
            "Requirement already satisfied: urllib3<3,>=1.21.1 in /usr/local/lib/python3.10/dist-packages (from requests<3,>=2.21.0->tensorflow) (2.2.3)\n",
            "Requirement already satisfied: certifi>=2017.4.17 in /usr/local/lib/python3.10/dist-packages (from requests<3,>=2.21.0->tensorflow) (2024.8.30)\n",
            "Requirement already satisfied: markdown>=2.6.8 in /usr/local/lib/python3.10/dist-packages (from tensorboard<2.18,>=2.17->tensorflow) (3.7)\n",
            "Requirement already satisfied: tensorboard-data-server<0.8.0,>=0.7.0 in /usr/local/lib/python3.10/dist-packages (from tensorboard<2.18,>=2.17->tensorflow) (0.7.2)\n",
            "Requirement already satisfied: werkzeug>=1.0.1 in /usr/local/lib/python3.10/dist-packages (from tensorboard<2.18,>=2.17->tensorflow) (3.0.4)\n",
            "Requirement already satisfied: MarkupSafe>=2.1.1 in /usr/local/lib/python3.10/dist-packages (from werkzeug>=1.0.1->tensorboard<2.18,>=2.17->tensorflow) (3.0.1)\n",
            "Requirement already satisfied: markdown-it-py>=2.2.0 in /usr/local/lib/python3.10/dist-packages (from rich->keras>=3.2.0->tensorflow) (3.0.0)\n",
            "Requirement already satisfied: pygments<3.0.0,>=2.13.0 in /usr/local/lib/python3.10/dist-packages (from rich->keras>=3.2.0->tensorflow) (2.18.0)\n",
            "Requirement already satisfied: mdurl~=0.1 in /usr/local/lib/python3.10/dist-packages (from markdown-it-py>=2.2.0->rich->keras>=3.2.0->tensorflow) (0.1.2)\n"
          ]
        }
      ]
    },
    {
      "cell_type": "code",
      "source": [
        "!pip install vncorenlp"
      ],
      "metadata": {
        "colab": {
          "base_uri": "https://localhost:8080/"
        },
        "id": "C5ldxkylqvLR",
        "outputId": "096d1b0b-18b6-49ec-fdf5-09ae2ca493ef"
      },
      "execution_count": 3,
      "outputs": [
        {
          "output_type": "stream",
          "name": "stdout",
          "text": [
            "Collecting vncorenlp\n",
            "  Downloading vncorenlp-1.0.3.tar.gz (2.6 MB)\n",
            "\u001b[?25l     \u001b[90m━━━━━━━━━━━━━━━━━━━━━━━━━━━━━━━━━━━━━━━━\u001b[0m \u001b[32m0.0/2.6 MB\u001b[0m \u001b[31m?\u001b[0m eta \u001b[36m-:--:--\u001b[0m\r\u001b[2K     \u001b[91m━━━━━━━━━━━━━━━━━━━━━━━━━━━━━━━\u001b[0m\u001b[91m╸\u001b[0m\u001b[90m━━━━━━━━\u001b[0m \u001b[32m2.1/2.6 MB\u001b[0m \u001b[31m77.8 MB/s\u001b[0m eta \u001b[36m0:00:01\u001b[0m\r\u001b[2K     \u001b[91m━━━━━━━━━━━━━━━━━━━━━━━━━━━━━━━\u001b[0m\u001b[91m╸\u001b[0m\u001b[90m━━━━━━━━\u001b[0m \u001b[32m2.1/2.6 MB\u001b[0m \u001b[31m77.8 MB/s\u001b[0m eta \u001b[36m0:00:01\u001b[0m\r\u001b[2K     \u001b[91m━━━━━━━━━━━━━━━━━━━━━━━━━━━━━━━\u001b[0m\u001b[91m╸\u001b[0m\u001b[90m━━━━━━━━\u001b[0m \u001b[32m2.1/2.6 MB\u001b[0m \u001b[31m77.8 MB/s\u001b[0m eta \u001b[36m0:00:01\u001b[0m\r\u001b[2K     \u001b[91m━━━━━━━━━━━━━━━━━━━━━━━━━━━━━━━━━━━━━━━\u001b[0m\u001b[91m╸\u001b[0m \u001b[32m2.6/2.6 MB\u001b[0m \u001b[31m18.8 MB/s\u001b[0m eta \u001b[36m0:00:01\u001b[0m\r\u001b[2K     \u001b[90m━━━━━━━━━━━━━━━━━━━━━━━━━━━━━━━━━━━━━━━━\u001b[0m \u001b[32m2.6/2.6 MB\u001b[0m \u001b[31m15.1 MB/s\u001b[0m eta \u001b[36m0:00:00\u001b[0m\n",
            "\u001b[?25h  Preparing metadata (setup.py) ... \u001b[?25l\u001b[?25hdone\n",
            "Requirement already satisfied: requests in /usr/local/lib/python3.10/dist-packages (from vncorenlp) (2.32.3)\n",
            "Requirement already satisfied: charset-normalizer<4,>=2 in /usr/local/lib/python3.10/dist-packages (from requests->vncorenlp) (3.4.0)\n",
            "Requirement already satisfied: idna<4,>=2.5 in /usr/local/lib/python3.10/dist-packages (from requests->vncorenlp) (3.10)\n",
            "Requirement already satisfied: urllib3<3,>=1.21.1 in /usr/local/lib/python3.10/dist-packages (from requests->vncorenlp) (2.2.3)\n",
            "Requirement already satisfied: certifi>=2017.4.17 in /usr/local/lib/python3.10/dist-packages (from requests->vncorenlp) (2024.8.30)\n",
            "Building wheels for collected packages: vncorenlp\n",
            "  Building wheel for vncorenlp (setup.py) ... \u001b[?25l\u001b[?25hdone\n",
            "  Created wheel for vncorenlp: filename=vncorenlp-1.0.3-py3-none-any.whl size=2645932 sha256=84c4f3fe077288941faa51be9e88bbe4c5f02a1a577d5603101fa88182694f2c\n",
            "  Stored in directory: /root/.cache/pip/wheels/5d/d9/b3/41f6c6b1ab758561fd4aab55dc0480b9d7a131c6aaa573a3fa\n",
            "Successfully built vncorenlp\n",
            "Installing collected packages: vncorenlp\n",
            "Successfully installed vncorenlp-1.0.3\n"
          ]
        }
      ]
    },
    {
      "cell_type": "markdown",
      "source": [
        "# Thư viện"
      ],
      "metadata": {
        "id": "Xfb6DAEDE04j"
      }
    },
    {
      "cell_type": "code",
      "execution_count": 46,
      "metadata": {
        "id": "5QcXaoVXAUOa"
      },
      "outputs": [],
      "source": [
        "import pandas as pd\n",
        "import numpy as np\n",
        "from transformers import pipeline\n",
        "import re\n",
        "import string\n",
        "import nltk\n",
        "from underthesea import sent_tokenize, word_tokenize\n",
        "from wordcloud import WordCloud\n",
        "import matplotlib.pyplot as plt\n",
        "import seaborn as sns\n",
        "from sklearn.utils import class_weight\n",
        "from sklearn.model_selection import train_test_split\n",
        "from gensim.models import Word2Vec\n",
        "from sklearn.feature_extraction.text import TfidfVectorizer\n",
        "from imblearn.over_sampling import SMOTE\n",
        "from sklearn.naive_bayes import MultinomialNB\n",
        "from sklearn.linear_model import LogisticRegression\n",
        "from sklearn.ensemble import RandomForestClassifier\n",
        "from sklearn.metrics import accuracy_score, recall_score, precision_score, f1_score, confusion_matrix\n",
        "from joblib import load\n",
        "from joblib import dump\n",
        "from tensorflow.keras.models import load_model\n",
        "from keras.models import Sequential\n",
        "from keras.utils import to_categorical\n",
        "from keras.layers import LSTM, Dense, Dropout\n",
        "from keras.callbacks import EarlyStopping\n",
        "from tensorflow.keras.models import load_model"
      ]
    },
    {
      "cell_type": "markdown",
      "source": [
        "# Input"
      ],
      "metadata": {
        "id": "nNI9OHotFApU"
      }
    },
    {
      "cell_type": "code",
      "execution_count": 5,
      "metadata": {
        "colab": {
          "base_uri": "https://localhost:8080/"
        },
        "id": "5qz7Uze4_BTH",
        "outputId": "ec7aeccc-cafe-431b-e327-5f219d5063cf"
      },
      "outputs": [
        {
          "output_type": "stream",
          "name": "stdout",
          "text": [
            "Mounted at /content/gdrive\n"
          ]
        }
      ],
      "source": [
        "# Tải dữ liệu từ file Excel\n",
        "from google.colab import drive\n",
        "drive.mount('/content/gdrive', force_remount = True)\n",
        "folder = '/content/gdrive/My Drive/KHÓA LUẬN TỐT NGHIỆP/GGmaps/'"
      ]
    },
    {
      "cell_type": "code",
      "source": [
        "df = pd.read_excel(folder + 'Dataset.xlsx')\n",
        "df.head()"
      ],
      "metadata": {
        "colab": {
          "base_uri": "https://localhost:8080/",
          "height": 206
        },
        "id": "C9nBTvHICajy",
        "outputId": "74bc97e1-bbbf-4c3b-b36f-e7ff698b6830"
      },
      "execution_count": 6,
      "outputs": [
        {
          "output_type": "execute_result",
          "data": {
            "text/plain": [
              "                                      source_name  rating  \\\n",
              "0  Trung Tâm Tiếng Anh Jaxtina - Cơ sở Phú Nhuận       4   \n",
              "1  Trung Tâm Tiếng Anh Jaxtina - Cơ sở Phú Nhuận       4   \n",
              "2  Trung Tâm Tiếng Anh Jaxtina - Cơ sở Phú Nhuận       5   \n",
              "3  Trung Tâm Tiếng Anh Jaxtina - Cơ sở Phú Nhuận       4   \n",
              "4  Trung Tâm Tiếng Anh Jaxtina - Cơ sở Phú Nhuận       4   \n",
              "\n",
              "                                              review  \n",
              "0  Trung tâm hỗ trợ sinh viên cực kì tốt, các anh...  \n",
              "1               Mấy chị dễ thương hỗ trợ  nhiệt tình  \n",
              "2  Trung tâm rất okela luôn nè , mấy chị và giảng...  \n",
              "3  em rất vui vì được tư vấn rất nhiệt tình, và g...  \n",
              "4  Trung tâm có bài test rõ rãng, giáo viên hướng...  "
            ],
            "text/html": [
              "\n",
              "  <div id=\"df-8d985d22-7dd0-4277-9c0c-bb3aab7fe400\" class=\"colab-df-container\">\n",
              "    <div>\n",
              "<style scoped>\n",
              "    .dataframe tbody tr th:only-of-type {\n",
              "        vertical-align: middle;\n",
              "    }\n",
              "\n",
              "    .dataframe tbody tr th {\n",
              "        vertical-align: top;\n",
              "    }\n",
              "\n",
              "    .dataframe thead th {\n",
              "        text-align: right;\n",
              "    }\n",
              "</style>\n",
              "<table border=\"1\" class=\"dataframe\">\n",
              "  <thead>\n",
              "    <tr style=\"text-align: right;\">\n",
              "      <th></th>\n",
              "      <th>source_name</th>\n",
              "      <th>rating</th>\n",
              "      <th>review</th>\n",
              "    </tr>\n",
              "  </thead>\n",
              "  <tbody>\n",
              "    <tr>\n",
              "      <th>0</th>\n",
              "      <td>Trung Tâm Tiếng Anh Jaxtina - Cơ sở Phú Nhuận</td>\n",
              "      <td>4</td>\n",
              "      <td>Trung tâm hỗ trợ sinh viên cực kì tốt, các anh...</td>\n",
              "    </tr>\n",
              "    <tr>\n",
              "      <th>1</th>\n",
              "      <td>Trung Tâm Tiếng Anh Jaxtina - Cơ sở Phú Nhuận</td>\n",
              "      <td>4</td>\n",
              "      <td>Mấy chị dễ thương hỗ trợ  nhiệt tình</td>\n",
              "    </tr>\n",
              "    <tr>\n",
              "      <th>2</th>\n",
              "      <td>Trung Tâm Tiếng Anh Jaxtina - Cơ sở Phú Nhuận</td>\n",
              "      <td>5</td>\n",
              "      <td>Trung tâm rất okela luôn nè , mấy chị và giảng...</td>\n",
              "    </tr>\n",
              "    <tr>\n",
              "      <th>3</th>\n",
              "      <td>Trung Tâm Tiếng Anh Jaxtina - Cơ sở Phú Nhuận</td>\n",
              "      <td>4</td>\n",
              "      <td>em rất vui vì được tư vấn rất nhiệt tình, và g...</td>\n",
              "    </tr>\n",
              "    <tr>\n",
              "      <th>4</th>\n",
              "      <td>Trung Tâm Tiếng Anh Jaxtina - Cơ sở Phú Nhuận</td>\n",
              "      <td>4</td>\n",
              "      <td>Trung tâm có bài test rõ rãng, giáo viên hướng...</td>\n",
              "    </tr>\n",
              "  </tbody>\n",
              "</table>\n",
              "</div>\n",
              "    <div class=\"colab-df-buttons\">\n",
              "\n",
              "  <div class=\"colab-df-container\">\n",
              "    <button class=\"colab-df-convert\" onclick=\"convertToInteractive('df-8d985d22-7dd0-4277-9c0c-bb3aab7fe400')\"\n",
              "            title=\"Convert this dataframe to an interactive table.\"\n",
              "            style=\"display:none;\">\n",
              "\n",
              "  <svg xmlns=\"http://www.w3.org/2000/svg\" height=\"24px\" viewBox=\"0 -960 960 960\">\n",
              "    <path d=\"M120-120v-720h720v720H120Zm60-500h600v-160H180v160Zm220 220h160v-160H400v160Zm0 220h160v-160H400v160ZM180-400h160v-160H180v160Zm440 0h160v-160H620v160ZM180-180h160v-160H180v160Zm440 0h160v-160H620v160Z\"/>\n",
              "  </svg>\n",
              "    </button>\n",
              "\n",
              "  <style>\n",
              "    .colab-df-container {\n",
              "      display:flex;\n",
              "      gap: 12px;\n",
              "    }\n",
              "\n",
              "    .colab-df-convert {\n",
              "      background-color: #E8F0FE;\n",
              "      border: none;\n",
              "      border-radius: 50%;\n",
              "      cursor: pointer;\n",
              "      display: none;\n",
              "      fill: #1967D2;\n",
              "      height: 32px;\n",
              "      padding: 0 0 0 0;\n",
              "      width: 32px;\n",
              "    }\n",
              "\n",
              "    .colab-df-convert:hover {\n",
              "      background-color: #E2EBFA;\n",
              "      box-shadow: 0px 1px 2px rgba(60, 64, 67, 0.3), 0px 1px 3px 1px rgba(60, 64, 67, 0.15);\n",
              "      fill: #174EA6;\n",
              "    }\n",
              "\n",
              "    .colab-df-buttons div {\n",
              "      margin-bottom: 4px;\n",
              "    }\n",
              "\n",
              "    [theme=dark] .colab-df-convert {\n",
              "      background-color: #3B4455;\n",
              "      fill: #D2E3FC;\n",
              "    }\n",
              "\n",
              "    [theme=dark] .colab-df-convert:hover {\n",
              "      background-color: #434B5C;\n",
              "      box-shadow: 0px 1px 3px 1px rgba(0, 0, 0, 0.15);\n",
              "      filter: drop-shadow(0px 1px 2px rgba(0, 0, 0, 0.3));\n",
              "      fill: #FFFFFF;\n",
              "    }\n",
              "  </style>\n",
              "\n",
              "    <script>\n",
              "      const buttonEl =\n",
              "        document.querySelector('#df-8d985d22-7dd0-4277-9c0c-bb3aab7fe400 button.colab-df-convert');\n",
              "      buttonEl.style.display =\n",
              "        google.colab.kernel.accessAllowed ? 'block' : 'none';\n",
              "\n",
              "      async function convertToInteractive(key) {\n",
              "        const element = document.querySelector('#df-8d985d22-7dd0-4277-9c0c-bb3aab7fe400');\n",
              "        const dataTable =\n",
              "          await google.colab.kernel.invokeFunction('convertToInteractive',\n",
              "                                                    [key], {});\n",
              "        if (!dataTable) return;\n",
              "\n",
              "        const docLinkHtml = 'Like what you see? Visit the ' +\n",
              "          '<a target=\"_blank\" href=https://colab.research.google.com/notebooks/data_table.ipynb>data table notebook</a>'\n",
              "          + ' to learn more about interactive tables.';\n",
              "        element.innerHTML = '';\n",
              "        dataTable['output_type'] = 'display_data';\n",
              "        await google.colab.output.renderOutput(dataTable, element);\n",
              "        const docLink = document.createElement('div');\n",
              "        docLink.innerHTML = docLinkHtml;\n",
              "        element.appendChild(docLink);\n",
              "      }\n",
              "    </script>\n",
              "  </div>\n",
              "\n",
              "\n",
              "<div id=\"df-6cb9cdbf-bbd3-4890-869b-349e5d725304\">\n",
              "  <button class=\"colab-df-quickchart\" onclick=\"quickchart('df-6cb9cdbf-bbd3-4890-869b-349e5d725304')\"\n",
              "            title=\"Suggest charts\"\n",
              "            style=\"display:none;\">\n",
              "\n",
              "<svg xmlns=\"http://www.w3.org/2000/svg\" height=\"24px\"viewBox=\"0 0 24 24\"\n",
              "     width=\"24px\">\n",
              "    <g>\n",
              "        <path d=\"M19 3H5c-1.1 0-2 .9-2 2v14c0 1.1.9 2 2 2h14c1.1 0 2-.9 2-2V5c0-1.1-.9-2-2-2zM9 17H7v-7h2v7zm4 0h-2V7h2v10zm4 0h-2v-4h2v4z\"/>\n",
              "    </g>\n",
              "</svg>\n",
              "  </button>\n",
              "\n",
              "<style>\n",
              "  .colab-df-quickchart {\n",
              "      --bg-color: #E8F0FE;\n",
              "      --fill-color: #1967D2;\n",
              "      --hover-bg-color: #E2EBFA;\n",
              "      --hover-fill-color: #174EA6;\n",
              "      --disabled-fill-color: #AAA;\n",
              "      --disabled-bg-color: #DDD;\n",
              "  }\n",
              "\n",
              "  [theme=dark] .colab-df-quickchart {\n",
              "      --bg-color: #3B4455;\n",
              "      --fill-color: #D2E3FC;\n",
              "      --hover-bg-color: #434B5C;\n",
              "      --hover-fill-color: #FFFFFF;\n",
              "      --disabled-bg-color: #3B4455;\n",
              "      --disabled-fill-color: #666;\n",
              "  }\n",
              "\n",
              "  .colab-df-quickchart {\n",
              "    background-color: var(--bg-color);\n",
              "    border: none;\n",
              "    border-radius: 50%;\n",
              "    cursor: pointer;\n",
              "    display: none;\n",
              "    fill: var(--fill-color);\n",
              "    height: 32px;\n",
              "    padding: 0;\n",
              "    width: 32px;\n",
              "  }\n",
              "\n",
              "  .colab-df-quickchart:hover {\n",
              "    background-color: var(--hover-bg-color);\n",
              "    box-shadow: 0 1px 2px rgba(60, 64, 67, 0.3), 0 1px 3px 1px rgba(60, 64, 67, 0.15);\n",
              "    fill: var(--button-hover-fill-color);\n",
              "  }\n",
              "\n",
              "  .colab-df-quickchart-complete:disabled,\n",
              "  .colab-df-quickchart-complete:disabled:hover {\n",
              "    background-color: var(--disabled-bg-color);\n",
              "    fill: var(--disabled-fill-color);\n",
              "    box-shadow: none;\n",
              "  }\n",
              "\n",
              "  .colab-df-spinner {\n",
              "    border: 2px solid var(--fill-color);\n",
              "    border-color: transparent;\n",
              "    border-bottom-color: var(--fill-color);\n",
              "    animation:\n",
              "      spin 1s steps(1) infinite;\n",
              "  }\n",
              "\n",
              "  @keyframes spin {\n",
              "    0% {\n",
              "      border-color: transparent;\n",
              "      border-bottom-color: var(--fill-color);\n",
              "      border-left-color: var(--fill-color);\n",
              "    }\n",
              "    20% {\n",
              "      border-color: transparent;\n",
              "      border-left-color: var(--fill-color);\n",
              "      border-top-color: var(--fill-color);\n",
              "    }\n",
              "    30% {\n",
              "      border-color: transparent;\n",
              "      border-left-color: var(--fill-color);\n",
              "      border-top-color: var(--fill-color);\n",
              "      border-right-color: var(--fill-color);\n",
              "    }\n",
              "    40% {\n",
              "      border-color: transparent;\n",
              "      border-right-color: var(--fill-color);\n",
              "      border-top-color: var(--fill-color);\n",
              "    }\n",
              "    60% {\n",
              "      border-color: transparent;\n",
              "      border-right-color: var(--fill-color);\n",
              "    }\n",
              "    80% {\n",
              "      border-color: transparent;\n",
              "      border-right-color: var(--fill-color);\n",
              "      border-bottom-color: var(--fill-color);\n",
              "    }\n",
              "    90% {\n",
              "      border-color: transparent;\n",
              "      border-bottom-color: var(--fill-color);\n",
              "    }\n",
              "  }\n",
              "</style>\n",
              "\n",
              "  <script>\n",
              "    async function quickchart(key) {\n",
              "      const quickchartButtonEl =\n",
              "        document.querySelector('#' + key + ' button');\n",
              "      quickchartButtonEl.disabled = true;  // To prevent multiple clicks.\n",
              "      quickchartButtonEl.classList.add('colab-df-spinner');\n",
              "      try {\n",
              "        const charts = await google.colab.kernel.invokeFunction(\n",
              "            'suggestCharts', [key], {});\n",
              "      } catch (error) {\n",
              "        console.error('Error during call to suggestCharts:', error);\n",
              "      }\n",
              "      quickchartButtonEl.classList.remove('colab-df-spinner');\n",
              "      quickchartButtonEl.classList.add('colab-df-quickchart-complete');\n",
              "    }\n",
              "    (() => {\n",
              "      let quickchartButtonEl =\n",
              "        document.querySelector('#df-6cb9cdbf-bbd3-4890-869b-349e5d725304 button');\n",
              "      quickchartButtonEl.style.display =\n",
              "        google.colab.kernel.accessAllowed ? 'block' : 'none';\n",
              "    })();\n",
              "  </script>\n",
              "</div>\n",
              "\n",
              "    </div>\n",
              "  </div>\n"
            ],
            "application/vnd.google.colaboratory.intrinsic+json": {
              "type": "dataframe",
              "variable_name": "df",
              "summary": "{\n  \"name\": \"df\",\n  \"rows\": 2082,\n  \"fields\": [\n    {\n      \"column\": \"source_name\",\n      \"properties\": {\n        \"dtype\": \"category\",\n        \"num_unique_values\": 123,\n        \"samples\": [\n          \"ANH NG\\u1eee DU H\\u1eccC ETEST\",\n          \"Tr\\u01b0\\u1eddng Anh Ng\\u1eef C.I.C C\\u1ea7n Th\\u01a1\",\n          \"ILA C\\u1ea7n Th\\u01a1 (T\\u1ea7ng 3 Vincom Xu\\u00e2n Kh\\u00e1nh)\"\n        ],\n        \"semantic_type\": \"\",\n        \"description\": \"\"\n      }\n    },\n    {\n      \"column\": \"rating\",\n      \"properties\": {\n        \"dtype\": \"number\",\n        \"std\": 1,\n        \"min\": 1,\n        \"max\": 5,\n        \"num_unique_values\": 5,\n        \"samples\": [\n          5,\n          1,\n          3\n        ],\n        \"semantic_type\": \"\",\n        \"description\": \"\"\n      }\n    },\n    {\n      \"column\": \"review\",\n      \"properties\": {\n        \"dtype\": \"string\",\n        \"num_unique_values\": 1995,\n        \"samples\": [\n          \"gi\\u00e1o vi\\u00ean vui v\\u1ebb, d\\u1ea1y d\\u1ec5 hi\\u1ec3u\",\n          \"'Trung t\\u00e2m c\\u00f3 m\\u1ed9t \\u0111\\u1ed9i ng\\u0169 gi\\u00e1o vi\\u00ean chuy\\u00ean nghi\\u1ec7p.T\\u00f4i th\\u1ef1c s\\u1ef1 \\u1ea5n t\\u01b0\\u1ee3ng v\\u1edbi c\\u00e1ch gi\\u00e1o vi\\u00ean Phuong NHU truy\\u1ec1n \\u0111\\u1ea1t ki\\u1ebfn \\u200b\\u200bth\\u1ee9c, r\\u1ea5t tinh t\\u1ebf, \\u0111\\u01a1n gi\\u1ea3n nh\\u01b0ng hi\\u1ec7u qu\\u1ea3 cao.'\",\n          \"'L\\u1ef1a ch\\u1ecdn h\\u1ecdc \\u1edf Jaxtina qu\\u00e1 l\\u00e0 \\u0111\\u00fang \\u0111\\u1eafn \\u1ea1. C\\u00e1c ch\\u1ecb t\\u01b0 v\\u1ea5n si\\u00eau d\\u1ec5 th\\u01b0\\u01a1ng v\\u00e0 r\\u1ea5t nhi\\u1ec7t t\\u00ecnh h\\u1ed7 tr\\u1ee3 h\\u1ecdc vi\\u00ean. M\\u00ecnh \\u0111ang theo h\\u1ecdc \\u0111\\u1ec3 \\u0111\\u1ea1t target IELTS 7.0'\"\n        ],\n        \"semantic_type\": \"\",\n        \"description\": \"\"\n      }\n    }\n  ]\n}"
            }
          },
          "metadata": {},
          "execution_count": 6
        }
      ]
    },
    {
      "cell_type": "markdown",
      "source": [
        "# Tổng quan dữ liệu"
      ],
      "metadata": {
        "id": "vvH2BHB0FFD5"
      }
    },
    {
      "cell_type": "code",
      "source": [
        "# Tổng số dòng, số cột của bộ dữ liệu\n",
        "print ('Các cột hiện có của bộ dữ liệu:')\n",
        "for x in df.columns:\n",
        "  print('>', x)\n",
        "print(f\"Bộ dữ liệu bao gồm {df.shape[1]} cột và {df.shape[0]} dòng\")"
      ],
      "metadata": {
        "colab": {
          "base_uri": "https://localhost:8080/"
        },
        "id": "mYdToW7PFIqV",
        "outputId": "639ae1df-4e92-4233-92f6-8d72b62fe766"
      },
      "execution_count": 7,
      "outputs": [
        {
          "output_type": "stream",
          "name": "stdout",
          "text": [
            "Các cột hiện có của bộ dữ liệu:\n",
            "> source_name\n",
            "> rating\n",
            "> review\n",
            "Bộ dữ liệu bao gồm 3 cột và 2082 dòng\n"
          ]
        }
      ]
    },
    {
      "cell_type": "markdown",
      "source": [
        "# Tiền xử lý"
      ],
      "metadata": {
        "id": "oRGa3vefGveN"
      }
    },
    {
      "cell_type": "markdown",
      "source": [
        "## Kiểm tra dữ liệu thiếu"
      ],
      "metadata": {
        "id": "EFKuncC8x0Li"
      }
    },
    {
      "cell_type": "code",
      "source": [
        "df.info()"
      ],
      "metadata": {
        "colab": {
          "base_uri": "https://localhost:8080/"
        },
        "id": "fjDsV5sASQ84",
        "outputId": "235b53c4-ccfb-4788-9edf-00aebef46d4f"
      },
      "execution_count": 8,
      "outputs": [
        {
          "output_type": "stream",
          "name": "stdout",
          "text": [
            "<class 'pandas.core.frame.DataFrame'>\n",
            "RangeIndex: 2082 entries, 0 to 2081\n",
            "Data columns (total 3 columns):\n",
            " #   Column       Non-Null Count  Dtype \n",
            "---  ------       --------------  ----- \n",
            " 0   source_name  2082 non-null   object\n",
            " 1   rating       2082 non-null   int64 \n",
            " 2   review       2082 non-null   object\n",
            "dtypes: int64(1), object(2)\n",
            "memory usage: 48.9+ KB\n"
          ]
        }
      ]
    },
    {
      "cell_type": "code",
      "source": [
        "df.isna().sum()"
      ],
      "metadata": {
        "colab": {
          "base_uri": "https://localhost:8080/",
          "height": 178
        },
        "id": "k2dSEs7VSejl",
        "outputId": "97828700-799e-4a0c-cff0-4faf4f6f4f04"
      },
      "execution_count": null,
      "outputs": [
        {
          "output_type": "execute_result",
          "data": {
            "text/plain": [
              "source_name    0\n",
              "rating         0\n",
              "review         0\n",
              "dtype: int64"
            ],
            "text/html": [
              "<div>\n",
              "<style scoped>\n",
              "    .dataframe tbody tr th:only-of-type {\n",
              "        vertical-align: middle;\n",
              "    }\n",
              "\n",
              "    .dataframe tbody tr th {\n",
              "        vertical-align: top;\n",
              "    }\n",
              "\n",
              "    .dataframe thead th {\n",
              "        text-align: right;\n",
              "    }\n",
              "</style>\n",
              "<table border=\"1\" class=\"dataframe\">\n",
              "  <thead>\n",
              "    <tr style=\"text-align: right;\">\n",
              "      <th></th>\n",
              "      <th>0</th>\n",
              "    </tr>\n",
              "  </thead>\n",
              "  <tbody>\n",
              "    <tr>\n",
              "      <th>source_name</th>\n",
              "      <td>0</td>\n",
              "    </tr>\n",
              "    <tr>\n",
              "      <th>rating</th>\n",
              "      <td>0</td>\n",
              "    </tr>\n",
              "    <tr>\n",
              "      <th>review</th>\n",
              "      <td>0</td>\n",
              "    </tr>\n",
              "  </tbody>\n",
              "</table>\n",
              "</div><br><label><b>dtype:</b> int64</label>"
            ]
          },
          "metadata": {},
          "execution_count": 9
        }
      ]
    },
    {
      "cell_type": "markdown",
      "source": [
        "## Chuẩn hóa"
      ],
      "metadata": {
        "id": "8-uQnEEaytU0"
      }
    },
    {
      "cell_type": "code",
      "source": [
        "# Tạo danh sách stopwords\n",
        "stopwords = set([\n",
        "    \"là\", \"có\", \"và\", \"của\", \"trong\", \"với\", \"cho\", \"tại\",\n",
        "    \"để\", \"cái\", \"này\", \"những\", \"đã\", \"thì\", \"về\",\n",
        "    \"khi\", \"mà\", \"cùng\", \"tôi\", \"bạn\", \"đó\", \"nếu\", \"từng\",\n",
        "    \"cũng\", \"chúng\", \"đi\", \"tất\", \"một\", \"như\", \"do\",\n",
        "    \"được\", \"có thể\", \"thế\", \"lại\", \"thêm\", \"nhưng\", \"đây\", \"nhiều\",\n",
        "    \"vì\", \"như\", \"nên\", \"khiến\", \"sẽ\", \"bị\", \"bởi\", \"cả\", \"vậy\", \"rất\", \"rồi\",\n",
        "    \"vào\", \"khác\", \"chỉ\", \"còn\", \"mình\", \"mày\", \"hay\", \"ở\", \"luôn\", \"các\"\n",
        "])\n",
        "\n",
        "def preprocess_text(text):\n",
        "    # Chuyển về chữ thường\n",
        "    text = text.lower()\n",
        "    # Loại bỏ ký tự đặc biệt\n",
        "    text = re.sub(r'[^\\w\\s]', '', text)\n",
        "    # Loại bỏ khoảng trắng thừa\n",
        "    text = re.sub(r'\\s+', ' ', text).strip()\n",
        "    # Tách từ\n",
        "    words = word_tokenize(text)\n",
        "    # Loại bỏ từ dừng\n",
        "    filtered_words = [word for word in words if word not in stopwords]\n",
        "    return ' '.join(filtered_words)\n",
        "\n",
        "# Áp dụng hàm chuẩn hóa vào cột 'review'\n",
        "df['cleaned_review'] = df['review'].apply(preprocess_text)"
      ],
      "metadata": {
        "id": "AB6euYvzuB3j"
      },
      "execution_count": 9,
      "outputs": []
    },
    {
      "cell_type": "code",
      "source": [
        "df"
      ],
      "metadata": {
        "colab": {
          "base_uri": "https://localhost:8080/",
          "height": 424
        },
        "id": "hdX2Hoj3wnQH",
        "outputId": "8b0f481c-2e81-461f-f137-4656358dea05"
      },
      "execution_count": 10,
      "outputs": [
        {
          "output_type": "execute_result",
          "data": {
            "text/plain": [
              "                                         source_name  rating  \\\n",
              "0     Trung Tâm Tiếng Anh Jaxtina - Cơ sở Phú Nhuận       4   \n",
              "1     Trung Tâm Tiếng Anh Jaxtina - Cơ sở Phú Nhuận       4   \n",
              "2     Trung Tâm Tiếng Anh Jaxtina - Cơ sở Phú Nhuận       5   \n",
              "3     Trung Tâm Tiếng Anh Jaxtina - Cơ sở Phú Nhuận       4   \n",
              "4     Trung Tâm Tiếng Anh Jaxtina - Cơ sở Phú Nhuận       4   \n",
              "...                                              ...     ...   \n",
              "2077                  English Language Center Athena       4   \n",
              "2078              Amslink English Center - Liễu Giai       5   \n",
              "2079              Amslink English Center - Liễu Giai       5   \n",
              "2080              Amslink English Center - Liễu Giai       5   \n",
              "2081              Amslink English Center - Liễu Giai       2   \n",
              "\n",
              "                                                 review  \\\n",
              "0     Trung tâm hỗ trợ sinh viên cực kì tốt, các anh...   \n",
              "1                  Mấy chị dễ thương hỗ trợ  nhiệt tình   \n",
              "2     Trung tâm rất okela luôn nè , mấy chị và giảng...   \n",
              "3     em rất vui vì được tư vấn rất nhiệt tình, và g...   \n",
              "4     Trung tâm có bài test rõ rãng, giáo viên hướng...   \n",
              "...                                                 ...   \n",
              "2077                         'Nhìn chung, tôi hài lòng'   \n",
              "2078  'Chất lượng giảng dạy là rất tốt, chú ý đến si...   \n",
              "2079  'Giáo viên tốt, cơ sở và thiết bị tốt, đủ để p...   \n",
              "2080                                      chất lượng ok   \n",
              "2081                        nhìn chung thì chưa tốt lắm   \n",
              "\n",
              "                                         cleaned_review  \n",
              "0     trung tâm hỗ trợ sinh viên cực kì tốt anh chị ...  \n",
              "1                   mấy chị dễ thương hỗ trợ nhiệt tình  \n",
              "2     trung tâm okela nè mấy chị giảng viên vui vẽ d...  \n",
              "3     em vui tư vấn nhiệt tình giải đáp thắc mắc rõ ...  \n",
              "4     trung tâm bài test rõ rãng giáo viên hướng dẫn...  \n",
              "...                                                 ...  \n",
              "2077                                nhìn chung hài lòng  \n",
              "2078       chất lượng giảng dạy tốt chú ý đến sinh viên  \n",
              "2079  giáo viên tốt cơ sở thiết bị tốt đủ phục vụ nh...  \n",
              "2080                                      chất lượng ok  \n",
              "2081                            nhìn chung chưa tốt lắm  \n",
              "\n",
              "[2082 rows x 4 columns]"
            ],
            "text/html": [
              "\n",
              "  <div id=\"df-f493bcb0-3e65-4d30-97c2-cbdae6bb2e62\" class=\"colab-df-container\">\n",
              "    <div>\n",
              "<style scoped>\n",
              "    .dataframe tbody tr th:only-of-type {\n",
              "        vertical-align: middle;\n",
              "    }\n",
              "\n",
              "    .dataframe tbody tr th {\n",
              "        vertical-align: top;\n",
              "    }\n",
              "\n",
              "    .dataframe thead th {\n",
              "        text-align: right;\n",
              "    }\n",
              "</style>\n",
              "<table border=\"1\" class=\"dataframe\">\n",
              "  <thead>\n",
              "    <tr style=\"text-align: right;\">\n",
              "      <th></th>\n",
              "      <th>source_name</th>\n",
              "      <th>rating</th>\n",
              "      <th>review</th>\n",
              "      <th>cleaned_review</th>\n",
              "    </tr>\n",
              "  </thead>\n",
              "  <tbody>\n",
              "    <tr>\n",
              "      <th>0</th>\n",
              "      <td>Trung Tâm Tiếng Anh Jaxtina - Cơ sở Phú Nhuận</td>\n",
              "      <td>4</td>\n",
              "      <td>Trung tâm hỗ trợ sinh viên cực kì tốt, các anh...</td>\n",
              "      <td>trung tâm hỗ trợ sinh viên cực kì tốt anh chị ...</td>\n",
              "    </tr>\n",
              "    <tr>\n",
              "      <th>1</th>\n",
              "      <td>Trung Tâm Tiếng Anh Jaxtina - Cơ sở Phú Nhuận</td>\n",
              "      <td>4</td>\n",
              "      <td>Mấy chị dễ thương hỗ trợ  nhiệt tình</td>\n",
              "      <td>mấy chị dễ thương hỗ trợ nhiệt tình</td>\n",
              "    </tr>\n",
              "    <tr>\n",
              "      <th>2</th>\n",
              "      <td>Trung Tâm Tiếng Anh Jaxtina - Cơ sở Phú Nhuận</td>\n",
              "      <td>5</td>\n",
              "      <td>Trung tâm rất okela luôn nè , mấy chị và giảng...</td>\n",
              "      <td>trung tâm okela nè mấy chị giảng viên vui vẽ d...</td>\n",
              "    </tr>\n",
              "    <tr>\n",
              "      <th>3</th>\n",
              "      <td>Trung Tâm Tiếng Anh Jaxtina - Cơ sở Phú Nhuận</td>\n",
              "      <td>4</td>\n",
              "      <td>em rất vui vì được tư vấn rất nhiệt tình, và g...</td>\n",
              "      <td>em vui tư vấn nhiệt tình giải đáp thắc mắc rõ ...</td>\n",
              "    </tr>\n",
              "    <tr>\n",
              "      <th>4</th>\n",
              "      <td>Trung Tâm Tiếng Anh Jaxtina - Cơ sở Phú Nhuận</td>\n",
              "      <td>4</td>\n",
              "      <td>Trung tâm có bài test rõ rãng, giáo viên hướng...</td>\n",
              "      <td>trung tâm bài test rõ rãng giáo viên hướng dẫn...</td>\n",
              "    </tr>\n",
              "    <tr>\n",
              "      <th>...</th>\n",
              "      <td>...</td>\n",
              "      <td>...</td>\n",
              "      <td>...</td>\n",
              "      <td>...</td>\n",
              "    </tr>\n",
              "    <tr>\n",
              "      <th>2077</th>\n",
              "      <td>English Language Center Athena</td>\n",
              "      <td>4</td>\n",
              "      <td>'Nhìn chung, tôi hài lòng'</td>\n",
              "      <td>nhìn chung hài lòng</td>\n",
              "    </tr>\n",
              "    <tr>\n",
              "      <th>2078</th>\n",
              "      <td>Amslink English Center - Liễu Giai</td>\n",
              "      <td>5</td>\n",
              "      <td>'Chất lượng giảng dạy là rất tốt, chú ý đến si...</td>\n",
              "      <td>chất lượng giảng dạy tốt chú ý đến sinh viên</td>\n",
              "    </tr>\n",
              "    <tr>\n",
              "      <th>2079</th>\n",
              "      <td>Amslink English Center - Liễu Giai</td>\n",
              "      <td>5</td>\n",
              "      <td>'Giáo viên tốt, cơ sở và thiết bị tốt, đủ để p...</td>\n",
              "      <td>giáo viên tốt cơ sở thiết bị tốt đủ phục vụ nh...</td>\n",
              "    </tr>\n",
              "    <tr>\n",
              "      <th>2080</th>\n",
              "      <td>Amslink English Center - Liễu Giai</td>\n",
              "      <td>5</td>\n",
              "      <td>chất lượng ok</td>\n",
              "      <td>chất lượng ok</td>\n",
              "    </tr>\n",
              "    <tr>\n",
              "      <th>2081</th>\n",
              "      <td>Amslink English Center - Liễu Giai</td>\n",
              "      <td>2</td>\n",
              "      <td>nhìn chung thì chưa tốt lắm</td>\n",
              "      <td>nhìn chung chưa tốt lắm</td>\n",
              "    </tr>\n",
              "  </tbody>\n",
              "</table>\n",
              "<p>2082 rows × 4 columns</p>\n",
              "</div>\n",
              "    <div class=\"colab-df-buttons\">\n",
              "\n",
              "  <div class=\"colab-df-container\">\n",
              "    <button class=\"colab-df-convert\" onclick=\"convertToInteractive('df-f493bcb0-3e65-4d30-97c2-cbdae6bb2e62')\"\n",
              "            title=\"Convert this dataframe to an interactive table.\"\n",
              "            style=\"display:none;\">\n",
              "\n",
              "  <svg xmlns=\"http://www.w3.org/2000/svg\" height=\"24px\" viewBox=\"0 -960 960 960\">\n",
              "    <path d=\"M120-120v-720h720v720H120Zm60-500h600v-160H180v160Zm220 220h160v-160H400v160Zm0 220h160v-160H400v160ZM180-400h160v-160H180v160Zm440 0h160v-160H620v160ZM180-180h160v-160H180v160Zm440 0h160v-160H620v160Z\"/>\n",
              "  </svg>\n",
              "    </button>\n",
              "\n",
              "  <style>\n",
              "    .colab-df-container {\n",
              "      display:flex;\n",
              "      gap: 12px;\n",
              "    }\n",
              "\n",
              "    .colab-df-convert {\n",
              "      background-color: #E8F0FE;\n",
              "      border: none;\n",
              "      border-radius: 50%;\n",
              "      cursor: pointer;\n",
              "      display: none;\n",
              "      fill: #1967D2;\n",
              "      height: 32px;\n",
              "      padding: 0 0 0 0;\n",
              "      width: 32px;\n",
              "    }\n",
              "\n",
              "    .colab-df-convert:hover {\n",
              "      background-color: #E2EBFA;\n",
              "      box-shadow: 0px 1px 2px rgba(60, 64, 67, 0.3), 0px 1px 3px 1px rgba(60, 64, 67, 0.15);\n",
              "      fill: #174EA6;\n",
              "    }\n",
              "\n",
              "    .colab-df-buttons div {\n",
              "      margin-bottom: 4px;\n",
              "    }\n",
              "\n",
              "    [theme=dark] .colab-df-convert {\n",
              "      background-color: #3B4455;\n",
              "      fill: #D2E3FC;\n",
              "    }\n",
              "\n",
              "    [theme=dark] .colab-df-convert:hover {\n",
              "      background-color: #434B5C;\n",
              "      box-shadow: 0px 1px 3px 1px rgba(0, 0, 0, 0.15);\n",
              "      filter: drop-shadow(0px 1px 2px rgba(0, 0, 0, 0.3));\n",
              "      fill: #FFFFFF;\n",
              "    }\n",
              "  </style>\n",
              "\n",
              "    <script>\n",
              "      const buttonEl =\n",
              "        document.querySelector('#df-f493bcb0-3e65-4d30-97c2-cbdae6bb2e62 button.colab-df-convert');\n",
              "      buttonEl.style.display =\n",
              "        google.colab.kernel.accessAllowed ? 'block' : 'none';\n",
              "\n",
              "      async function convertToInteractive(key) {\n",
              "        const element = document.querySelector('#df-f493bcb0-3e65-4d30-97c2-cbdae6bb2e62');\n",
              "        const dataTable =\n",
              "          await google.colab.kernel.invokeFunction('convertToInteractive',\n",
              "                                                    [key], {});\n",
              "        if (!dataTable) return;\n",
              "\n",
              "        const docLinkHtml = 'Like what you see? Visit the ' +\n",
              "          '<a target=\"_blank\" href=https://colab.research.google.com/notebooks/data_table.ipynb>data table notebook</a>'\n",
              "          + ' to learn more about interactive tables.';\n",
              "        element.innerHTML = '';\n",
              "        dataTable['output_type'] = 'display_data';\n",
              "        await google.colab.output.renderOutput(dataTable, element);\n",
              "        const docLink = document.createElement('div');\n",
              "        docLink.innerHTML = docLinkHtml;\n",
              "        element.appendChild(docLink);\n",
              "      }\n",
              "    </script>\n",
              "  </div>\n",
              "\n",
              "\n",
              "<div id=\"df-a7b66fb7-c040-4920-8c2b-2f7883fc232e\">\n",
              "  <button class=\"colab-df-quickchart\" onclick=\"quickchart('df-a7b66fb7-c040-4920-8c2b-2f7883fc232e')\"\n",
              "            title=\"Suggest charts\"\n",
              "            style=\"display:none;\">\n",
              "\n",
              "<svg xmlns=\"http://www.w3.org/2000/svg\" height=\"24px\"viewBox=\"0 0 24 24\"\n",
              "     width=\"24px\">\n",
              "    <g>\n",
              "        <path d=\"M19 3H5c-1.1 0-2 .9-2 2v14c0 1.1.9 2 2 2h14c1.1 0 2-.9 2-2V5c0-1.1-.9-2-2-2zM9 17H7v-7h2v7zm4 0h-2V7h2v10zm4 0h-2v-4h2v4z\"/>\n",
              "    </g>\n",
              "</svg>\n",
              "  </button>\n",
              "\n",
              "<style>\n",
              "  .colab-df-quickchart {\n",
              "      --bg-color: #E8F0FE;\n",
              "      --fill-color: #1967D2;\n",
              "      --hover-bg-color: #E2EBFA;\n",
              "      --hover-fill-color: #174EA6;\n",
              "      --disabled-fill-color: #AAA;\n",
              "      --disabled-bg-color: #DDD;\n",
              "  }\n",
              "\n",
              "  [theme=dark] .colab-df-quickchart {\n",
              "      --bg-color: #3B4455;\n",
              "      --fill-color: #D2E3FC;\n",
              "      --hover-bg-color: #434B5C;\n",
              "      --hover-fill-color: #FFFFFF;\n",
              "      --disabled-bg-color: #3B4455;\n",
              "      --disabled-fill-color: #666;\n",
              "  }\n",
              "\n",
              "  .colab-df-quickchart {\n",
              "    background-color: var(--bg-color);\n",
              "    border: none;\n",
              "    border-radius: 50%;\n",
              "    cursor: pointer;\n",
              "    display: none;\n",
              "    fill: var(--fill-color);\n",
              "    height: 32px;\n",
              "    padding: 0;\n",
              "    width: 32px;\n",
              "  }\n",
              "\n",
              "  .colab-df-quickchart:hover {\n",
              "    background-color: var(--hover-bg-color);\n",
              "    box-shadow: 0 1px 2px rgba(60, 64, 67, 0.3), 0 1px 3px 1px rgba(60, 64, 67, 0.15);\n",
              "    fill: var(--button-hover-fill-color);\n",
              "  }\n",
              "\n",
              "  .colab-df-quickchart-complete:disabled,\n",
              "  .colab-df-quickchart-complete:disabled:hover {\n",
              "    background-color: var(--disabled-bg-color);\n",
              "    fill: var(--disabled-fill-color);\n",
              "    box-shadow: none;\n",
              "  }\n",
              "\n",
              "  .colab-df-spinner {\n",
              "    border: 2px solid var(--fill-color);\n",
              "    border-color: transparent;\n",
              "    border-bottom-color: var(--fill-color);\n",
              "    animation:\n",
              "      spin 1s steps(1) infinite;\n",
              "  }\n",
              "\n",
              "  @keyframes spin {\n",
              "    0% {\n",
              "      border-color: transparent;\n",
              "      border-bottom-color: var(--fill-color);\n",
              "      border-left-color: var(--fill-color);\n",
              "    }\n",
              "    20% {\n",
              "      border-color: transparent;\n",
              "      border-left-color: var(--fill-color);\n",
              "      border-top-color: var(--fill-color);\n",
              "    }\n",
              "    30% {\n",
              "      border-color: transparent;\n",
              "      border-left-color: var(--fill-color);\n",
              "      border-top-color: var(--fill-color);\n",
              "      border-right-color: var(--fill-color);\n",
              "    }\n",
              "    40% {\n",
              "      border-color: transparent;\n",
              "      border-right-color: var(--fill-color);\n",
              "      border-top-color: var(--fill-color);\n",
              "    }\n",
              "    60% {\n",
              "      border-color: transparent;\n",
              "      border-right-color: var(--fill-color);\n",
              "    }\n",
              "    80% {\n",
              "      border-color: transparent;\n",
              "      border-right-color: var(--fill-color);\n",
              "      border-bottom-color: var(--fill-color);\n",
              "    }\n",
              "    90% {\n",
              "      border-color: transparent;\n",
              "      border-bottom-color: var(--fill-color);\n",
              "    }\n",
              "  }\n",
              "</style>\n",
              "\n",
              "  <script>\n",
              "    async function quickchart(key) {\n",
              "      const quickchartButtonEl =\n",
              "        document.querySelector('#' + key + ' button');\n",
              "      quickchartButtonEl.disabled = true;  // To prevent multiple clicks.\n",
              "      quickchartButtonEl.classList.add('colab-df-spinner');\n",
              "      try {\n",
              "        const charts = await google.colab.kernel.invokeFunction(\n",
              "            'suggestCharts', [key], {});\n",
              "      } catch (error) {\n",
              "        console.error('Error during call to suggestCharts:', error);\n",
              "      }\n",
              "      quickchartButtonEl.classList.remove('colab-df-spinner');\n",
              "      quickchartButtonEl.classList.add('colab-df-quickchart-complete');\n",
              "    }\n",
              "    (() => {\n",
              "      let quickchartButtonEl =\n",
              "        document.querySelector('#df-a7b66fb7-c040-4920-8c2b-2f7883fc232e button');\n",
              "      quickchartButtonEl.style.display =\n",
              "        google.colab.kernel.accessAllowed ? 'block' : 'none';\n",
              "    })();\n",
              "  </script>\n",
              "</div>\n",
              "\n",
              "  <div id=\"id_fb6224ed-f07f-4672-a6ec-2c7b7121a9fd\">\n",
              "    <style>\n",
              "      .colab-df-generate {\n",
              "        background-color: #E8F0FE;\n",
              "        border: none;\n",
              "        border-radius: 50%;\n",
              "        cursor: pointer;\n",
              "        display: none;\n",
              "        fill: #1967D2;\n",
              "        height: 32px;\n",
              "        padding: 0 0 0 0;\n",
              "        width: 32px;\n",
              "      }\n",
              "\n",
              "      .colab-df-generate:hover {\n",
              "        background-color: #E2EBFA;\n",
              "        box-shadow: 0px 1px 2px rgba(60, 64, 67, 0.3), 0px 1px 3px 1px rgba(60, 64, 67, 0.15);\n",
              "        fill: #174EA6;\n",
              "      }\n",
              "\n",
              "      [theme=dark] .colab-df-generate {\n",
              "        background-color: #3B4455;\n",
              "        fill: #D2E3FC;\n",
              "      }\n",
              "\n",
              "      [theme=dark] .colab-df-generate:hover {\n",
              "        background-color: #434B5C;\n",
              "        box-shadow: 0px 1px 3px 1px rgba(0, 0, 0, 0.15);\n",
              "        filter: drop-shadow(0px 1px 2px rgba(0, 0, 0, 0.3));\n",
              "        fill: #FFFFFF;\n",
              "      }\n",
              "    </style>\n",
              "    <button class=\"colab-df-generate\" onclick=\"generateWithVariable('df')\"\n",
              "            title=\"Generate code using this dataframe.\"\n",
              "            style=\"display:none;\">\n",
              "\n",
              "  <svg xmlns=\"http://www.w3.org/2000/svg\" height=\"24px\"viewBox=\"0 0 24 24\"\n",
              "       width=\"24px\">\n",
              "    <path d=\"M7,19H8.4L18.45,9,17,7.55,7,17.6ZM5,21V16.75L18.45,3.32a2,2,0,0,1,2.83,0l1.4,1.43a1.91,1.91,0,0,1,.58,1.4,1.91,1.91,0,0,1-.58,1.4L9.25,21ZM18.45,9,17,7.55Zm-12,3A5.31,5.31,0,0,0,4.9,8.1,5.31,5.31,0,0,0,1,6.5,5.31,5.31,0,0,0,4.9,4.9,5.31,5.31,0,0,0,6.5,1,5.31,5.31,0,0,0,8.1,4.9,5.31,5.31,0,0,0,12,6.5,5.46,5.46,0,0,0,6.5,12Z\"/>\n",
              "  </svg>\n",
              "    </button>\n",
              "    <script>\n",
              "      (() => {\n",
              "      const buttonEl =\n",
              "        document.querySelector('#id_fb6224ed-f07f-4672-a6ec-2c7b7121a9fd button.colab-df-generate');\n",
              "      buttonEl.style.display =\n",
              "        google.colab.kernel.accessAllowed ? 'block' : 'none';\n",
              "\n",
              "      buttonEl.onclick = () => {\n",
              "        google.colab.notebook.generateWithVariable('df');\n",
              "      }\n",
              "      })();\n",
              "    </script>\n",
              "  </div>\n",
              "\n",
              "    </div>\n",
              "  </div>\n"
            ],
            "application/vnd.google.colaboratory.intrinsic+json": {
              "type": "dataframe",
              "variable_name": "df",
              "summary": "{\n  \"name\": \"df\",\n  \"rows\": 2082,\n  \"fields\": [\n    {\n      \"column\": \"source_name\",\n      \"properties\": {\n        \"dtype\": \"category\",\n        \"num_unique_values\": 123,\n        \"samples\": [\n          \"ANH NG\\u1eee DU H\\u1eccC ETEST\",\n          \"Tr\\u01b0\\u1eddng Anh Ng\\u1eef C.I.C C\\u1ea7n Th\\u01a1\",\n          \"ILA C\\u1ea7n Th\\u01a1 (T\\u1ea7ng 3 Vincom Xu\\u00e2n Kh\\u00e1nh)\"\n        ],\n        \"semantic_type\": \"\",\n        \"description\": \"\"\n      }\n    },\n    {\n      \"column\": \"rating\",\n      \"properties\": {\n        \"dtype\": \"number\",\n        \"std\": 1,\n        \"min\": 1,\n        \"max\": 5,\n        \"num_unique_values\": 5,\n        \"samples\": [\n          5,\n          1,\n          3\n        ],\n        \"semantic_type\": \"\",\n        \"description\": \"\"\n      }\n    },\n    {\n      \"column\": \"review\",\n      \"properties\": {\n        \"dtype\": \"string\",\n        \"num_unique_values\": 1995,\n        \"samples\": [\n          \"gi\\u00e1o vi\\u00ean vui v\\u1ebb, d\\u1ea1y d\\u1ec5 hi\\u1ec3u\",\n          \"'Trung t\\u00e2m c\\u00f3 m\\u1ed9t \\u0111\\u1ed9i ng\\u0169 gi\\u00e1o vi\\u00ean chuy\\u00ean nghi\\u1ec7p.T\\u00f4i th\\u1ef1c s\\u1ef1 \\u1ea5n t\\u01b0\\u1ee3ng v\\u1edbi c\\u00e1ch gi\\u00e1o vi\\u00ean Phuong NHU truy\\u1ec1n \\u0111\\u1ea1t ki\\u1ebfn \\u200b\\u200bth\\u1ee9c, r\\u1ea5t tinh t\\u1ebf, \\u0111\\u01a1n gi\\u1ea3n nh\\u01b0ng hi\\u1ec7u qu\\u1ea3 cao.'\",\n          \"'L\\u1ef1a ch\\u1ecdn h\\u1ecdc \\u1edf Jaxtina qu\\u00e1 l\\u00e0 \\u0111\\u00fang \\u0111\\u1eafn \\u1ea1. C\\u00e1c ch\\u1ecb t\\u01b0 v\\u1ea5n si\\u00eau d\\u1ec5 th\\u01b0\\u01a1ng v\\u00e0 r\\u1ea5t nhi\\u1ec7t t\\u00ecnh h\\u1ed7 tr\\u1ee3 h\\u1ecdc vi\\u00ean. M\\u00ecnh \\u0111ang theo h\\u1ecdc \\u0111\\u1ec3 \\u0111\\u1ea1t target IELTS 7.0'\"\n        ],\n        \"semantic_type\": \"\",\n        \"description\": \"\"\n      }\n    },\n    {\n      \"column\": \"cleaned_review\",\n      \"properties\": {\n        \"dtype\": \"string\",\n        \"num_unique_values\": 1920,\n        \"samples\": [\n          \"gi\\u00e1o vi\\u00ean d\\u1ea1y nhi\\u1ec7t t\\u00ecnh\",\n          \"sau tham gia kh\\u00f3a h\\u1ecdc giao ti\\u1ebfp mes th\\u1ea5y s\\u1ef1 c\\u1ea3i thi\\u1ec7n k\\u1ef9 n\\u0103ng nghe ph\\u00e1t \\u00e2m 3 gi\\u00e1o vi\\u00ean nhi\\u1ec7t t\\u00ecnh chuy\\u00ean nghi\\u1ec7p\",\n          \"tham gia c\\u00e2u l\\u1ea1c b\\u1ed9 amazing saturday tr\\u01b0\\u1eddng \\u1ea5n t\\u01b0\\u1ee3ng c\\u00e1ch d\\u1ea1y speak up hi\\u1ec7n h\\u1ecdc 6 th\\u00e1ng th\\u1ea5y kh\\u00e1 h\\u00e0i l\\u00f2ng l\\u1ecbch h\\u1ecdc linh ho\\u1ea1t gi\\u00e1o vi\\u00ean c\\u1ed1 v\\u1ea5n s\\u00e1t sao ti\\u1ebfn \\u0111\\u1ed9 h\\u1ecdc t\\u1eadp tu\\u1ea7n tr\\u01b0\\u1eddng cam k\\u1ebft h\\u1ee3p\"\n        ],\n        \"semantic_type\": \"\",\n        \"description\": \"\"\n      }\n    }\n  ]\n}"
            }
          },
          "metadata": {},
          "execution_count": 10
        }
      ]
    },
    {
      "cell_type": "markdown",
      "source": [
        "## Gán nhãn"
      ],
      "metadata": {
        "id": "F-LzGospLCTX"
      }
    },
    {
      "cell_type": "code",
      "source": [
        "def label_sentiment(rating):\n",
        "    if rating > 3:\n",
        "        return 'positive'\n",
        "    else:\n",
        "        return 'negative'\n",
        "\n",
        "# Gán nhãn cho cột 'sentiment' dựa trên cột 'rating'\n",
        "df['sentiment'] = df['rating'].apply(label_sentiment)"
      ],
      "metadata": {
        "id": "jYvLqX7OKcca"
      },
      "execution_count": 11,
      "outputs": []
    },
    {
      "cell_type": "code",
      "source": [
        "df"
      ],
      "metadata": {
        "colab": {
          "base_uri": "https://localhost:8080/",
          "height": 424
        },
        "id": "Q_2QCWJDKz7N",
        "outputId": "2daf4f4c-263a-42d1-f608-53b62689f139"
      },
      "execution_count": 12,
      "outputs": [
        {
          "output_type": "execute_result",
          "data": {
            "text/plain": [
              "                                         source_name  rating  \\\n",
              "0     Trung Tâm Tiếng Anh Jaxtina - Cơ sở Phú Nhuận       4   \n",
              "1     Trung Tâm Tiếng Anh Jaxtina - Cơ sở Phú Nhuận       4   \n",
              "2     Trung Tâm Tiếng Anh Jaxtina - Cơ sở Phú Nhuận       5   \n",
              "3     Trung Tâm Tiếng Anh Jaxtina - Cơ sở Phú Nhuận       4   \n",
              "4     Trung Tâm Tiếng Anh Jaxtina - Cơ sở Phú Nhuận       4   \n",
              "...                                              ...     ...   \n",
              "2077                  English Language Center Athena       4   \n",
              "2078              Amslink English Center - Liễu Giai       5   \n",
              "2079              Amslink English Center - Liễu Giai       5   \n",
              "2080              Amslink English Center - Liễu Giai       5   \n",
              "2081              Amslink English Center - Liễu Giai       2   \n",
              "\n",
              "                                                 review  \\\n",
              "0     Trung tâm hỗ trợ sinh viên cực kì tốt, các anh...   \n",
              "1                  Mấy chị dễ thương hỗ trợ  nhiệt tình   \n",
              "2     Trung tâm rất okela luôn nè , mấy chị và giảng...   \n",
              "3     em rất vui vì được tư vấn rất nhiệt tình, và g...   \n",
              "4     Trung tâm có bài test rõ rãng, giáo viên hướng...   \n",
              "...                                                 ...   \n",
              "2077                         'Nhìn chung, tôi hài lòng'   \n",
              "2078  'Chất lượng giảng dạy là rất tốt, chú ý đến si...   \n",
              "2079  'Giáo viên tốt, cơ sở và thiết bị tốt, đủ để p...   \n",
              "2080                                      chất lượng ok   \n",
              "2081                        nhìn chung thì chưa tốt lắm   \n",
              "\n",
              "                                         cleaned_review sentiment  \n",
              "0     trung tâm hỗ trợ sinh viên cực kì tốt anh chị ...  positive  \n",
              "1                   mấy chị dễ thương hỗ trợ nhiệt tình  positive  \n",
              "2     trung tâm okela nè mấy chị giảng viên vui vẽ d...  positive  \n",
              "3     em vui tư vấn nhiệt tình giải đáp thắc mắc rõ ...  positive  \n",
              "4     trung tâm bài test rõ rãng giáo viên hướng dẫn...  positive  \n",
              "...                                                 ...       ...  \n",
              "2077                                nhìn chung hài lòng  positive  \n",
              "2078       chất lượng giảng dạy tốt chú ý đến sinh viên  positive  \n",
              "2079  giáo viên tốt cơ sở thiết bị tốt đủ phục vụ nh...  positive  \n",
              "2080                                      chất lượng ok  positive  \n",
              "2081                            nhìn chung chưa tốt lắm  negative  \n",
              "\n",
              "[2082 rows x 5 columns]"
            ],
            "text/html": [
              "\n",
              "  <div id=\"df-2e19fe64-80c9-48bc-b62f-0e15c4aa1c77\" class=\"colab-df-container\">\n",
              "    <div>\n",
              "<style scoped>\n",
              "    .dataframe tbody tr th:only-of-type {\n",
              "        vertical-align: middle;\n",
              "    }\n",
              "\n",
              "    .dataframe tbody tr th {\n",
              "        vertical-align: top;\n",
              "    }\n",
              "\n",
              "    .dataframe thead th {\n",
              "        text-align: right;\n",
              "    }\n",
              "</style>\n",
              "<table border=\"1\" class=\"dataframe\">\n",
              "  <thead>\n",
              "    <tr style=\"text-align: right;\">\n",
              "      <th></th>\n",
              "      <th>source_name</th>\n",
              "      <th>rating</th>\n",
              "      <th>review</th>\n",
              "      <th>cleaned_review</th>\n",
              "      <th>sentiment</th>\n",
              "    </tr>\n",
              "  </thead>\n",
              "  <tbody>\n",
              "    <tr>\n",
              "      <th>0</th>\n",
              "      <td>Trung Tâm Tiếng Anh Jaxtina - Cơ sở Phú Nhuận</td>\n",
              "      <td>4</td>\n",
              "      <td>Trung tâm hỗ trợ sinh viên cực kì tốt, các anh...</td>\n",
              "      <td>trung tâm hỗ trợ sinh viên cực kì tốt anh chị ...</td>\n",
              "      <td>positive</td>\n",
              "    </tr>\n",
              "    <tr>\n",
              "      <th>1</th>\n",
              "      <td>Trung Tâm Tiếng Anh Jaxtina - Cơ sở Phú Nhuận</td>\n",
              "      <td>4</td>\n",
              "      <td>Mấy chị dễ thương hỗ trợ  nhiệt tình</td>\n",
              "      <td>mấy chị dễ thương hỗ trợ nhiệt tình</td>\n",
              "      <td>positive</td>\n",
              "    </tr>\n",
              "    <tr>\n",
              "      <th>2</th>\n",
              "      <td>Trung Tâm Tiếng Anh Jaxtina - Cơ sở Phú Nhuận</td>\n",
              "      <td>5</td>\n",
              "      <td>Trung tâm rất okela luôn nè , mấy chị và giảng...</td>\n",
              "      <td>trung tâm okela nè mấy chị giảng viên vui vẽ d...</td>\n",
              "      <td>positive</td>\n",
              "    </tr>\n",
              "    <tr>\n",
              "      <th>3</th>\n",
              "      <td>Trung Tâm Tiếng Anh Jaxtina - Cơ sở Phú Nhuận</td>\n",
              "      <td>4</td>\n",
              "      <td>em rất vui vì được tư vấn rất nhiệt tình, và g...</td>\n",
              "      <td>em vui tư vấn nhiệt tình giải đáp thắc mắc rõ ...</td>\n",
              "      <td>positive</td>\n",
              "    </tr>\n",
              "    <tr>\n",
              "      <th>4</th>\n",
              "      <td>Trung Tâm Tiếng Anh Jaxtina - Cơ sở Phú Nhuận</td>\n",
              "      <td>4</td>\n",
              "      <td>Trung tâm có bài test rõ rãng, giáo viên hướng...</td>\n",
              "      <td>trung tâm bài test rõ rãng giáo viên hướng dẫn...</td>\n",
              "      <td>positive</td>\n",
              "    </tr>\n",
              "    <tr>\n",
              "      <th>...</th>\n",
              "      <td>...</td>\n",
              "      <td>...</td>\n",
              "      <td>...</td>\n",
              "      <td>...</td>\n",
              "      <td>...</td>\n",
              "    </tr>\n",
              "    <tr>\n",
              "      <th>2077</th>\n",
              "      <td>English Language Center Athena</td>\n",
              "      <td>4</td>\n",
              "      <td>'Nhìn chung, tôi hài lòng'</td>\n",
              "      <td>nhìn chung hài lòng</td>\n",
              "      <td>positive</td>\n",
              "    </tr>\n",
              "    <tr>\n",
              "      <th>2078</th>\n",
              "      <td>Amslink English Center - Liễu Giai</td>\n",
              "      <td>5</td>\n",
              "      <td>'Chất lượng giảng dạy là rất tốt, chú ý đến si...</td>\n",
              "      <td>chất lượng giảng dạy tốt chú ý đến sinh viên</td>\n",
              "      <td>positive</td>\n",
              "    </tr>\n",
              "    <tr>\n",
              "      <th>2079</th>\n",
              "      <td>Amslink English Center - Liễu Giai</td>\n",
              "      <td>5</td>\n",
              "      <td>'Giáo viên tốt, cơ sở và thiết bị tốt, đủ để p...</td>\n",
              "      <td>giáo viên tốt cơ sở thiết bị tốt đủ phục vụ nh...</td>\n",
              "      <td>positive</td>\n",
              "    </tr>\n",
              "    <tr>\n",
              "      <th>2080</th>\n",
              "      <td>Amslink English Center - Liễu Giai</td>\n",
              "      <td>5</td>\n",
              "      <td>chất lượng ok</td>\n",
              "      <td>chất lượng ok</td>\n",
              "      <td>positive</td>\n",
              "    </tr>\n",
              "    <tr>\n",
              "      <th>2081</th>\n",
              "      <td>Amslink English Center - Liễu Giai</td>\n",
              "      <td>2</td>\n",
              "      <td>nhìn chung thì chưa tốt lắm</td>\n",
              "      <td>nhìn chung chưa tốt lắm</td>\n",
              "      <td>negative</td>\n",
              "    </tr>\n",
              "  </tbody>\n",
              "</table>\n",
              "<p>2082 rows × 5 columns</p>\n",
              "</div>\n",
              "    <div class=\"colab-df-buttons\">\n",
              "\n",
              "  <div class=\"colab-df-container\">\n",
              "    <button class=\"colab-df-convert\" onclick=\"convertToInteractive('df-2e19fe64-80c9-48bc-b62f-0e15c4aa1c77')\"\n",
              "            title=\"Convert this dataframe to an interactive table.\"\n",
              "            style=\"display:none;\">\n",
              "\n",
              "  <svg xmlns=\"http://www.w3.org/2000/svg\" height=\"24px\" viewBox=\"0 -960 960 960\">\n",
              "    <path d=\"M120-120v-720h720v720H120Zm60-500h600v-160H180v160Zm220 220h160v-160H400v160Zm0 220h160v-160H400v160ZM180-400h160v-160H180v160Zm440 0h160v-160H620v160ZM180-180h160v-160H180v160Zm440 0h160v-160H620v160Z\"/>\n",
              "  </svg>\n",
              "    </button>\n",
              "\n",
              "  <style>\n",
              "    .colab-df-container {\n",
              "      display:flex;\n",
              "      gap: 12px;\n",
              "    }\n",
              "\n",
              "    .colab-df-convert {\n",
              "      background-color: #E8F0FE;\n",
              "      border: none;\n",
              "      border-radius: 50%;\n",
              "      cursor: pointer;\n",
              "      display: none;\n",
              "      fill: #1967D2;\n",
              "      height: 32px;\n",
              "      padding: 0 0 0 0;\n",
              "      width: 32px;\n",
              "    }\n",
              "\n",
              "    .colab-df-convert:hover {\n",
              "      background-color: #E2EBFA;\n",
              "      box-shadow: 0px 1px 2px rgba(60, 64, 67, 0.3), 0px 1px 3px 1px rgba(60, 64, 67, 0.15);\n",
              "      fill: #174EA6;\n",
              "    }\n",
              "\n",
              "    .colab-df-buttons div {\n",
              "      margin-bottom: 4px;\n",
              "    }\n",
              "\n",
              "    [theme=dark] .colab-df-convert {\n",
              "      background-color: #3B4455;\n",
              "      fill: #D2E3FC;\n",
              "    }\n",
              "\n",
              "    [theme=dark] .colab-df-convert:hover {\n",
              "      background-color: #434B5C;\n",
              "      box-shadow: 0px 1px 3px 1px rgba(0, 0, 0, 0.15);\n",
              "      filter: drop-shadow(0px 1px 2px rgba(0, 0, 0, 0.3));\n",
              "      fill: #FFFFFF;\n",
              "    }\n",
              "  </style>\n",
              "\n",
              "    <script>\n",
              "      const buttonEl =\n",
              "        document.querySelector('#df-2e19fe64-80c9-48bc-b62f-0e15c4aa1c77 button.colab-df-convert');\n",
              "      buttonEl.style.display =\n",
              "        google.colab.kernel.accessAllowed ? 'block' : 'none';\n",
              "\n",
              "      async function convertToInteractive(key) {\n",
              "        const element = document.querySelector('#df-2e19fe64-80c9-48bc-b62f-0e15c4aa1c77');\n",
              "        const dataTable =\n",
              "          await google.colab.kernel.invokeFunction('convertToInteractive',\n",
              "                                                    [key], {});\n",
              "        if (!dataTable) return;\n",
              "\n",
              "        const docLinkHtml = 'Like what you see? Visit the ' +\n",
              "          '<a target=\"_blank\" href=https://colab.research.google.com/notebooks/data_table.ipynb>data table notebook</a>'\n",
              "          + ' to learn more about interactive tables.';\n",
              "        element.innerHTML = '';\n",
              "        dataTable['output_type'] = 'display_data';\n",
              "        await google.colab.output.renderOutput(dataTable, element);\n",
              "        const docLink = document.createElement('div');\n",
              "        docLink.innerHTML = docLinkHtml;\n",
              "        element.appendChild(docLink);\n",
              "      }\n",
              "    </script>\n",
              "  </div>\n",
              "\n",
              "\n",
              "<div id=\"df-5f22413f-76cf-44fa-a597-580d3016f576\">\n",
              "  <button class=\"colab-df-quickchart\" onclick=\"quickchart('df-5f22413f-76cf-44fa-a597-580d3016f576')\"\n",
              "            title=\"Suggest charts\"\n",
              "            style=\"display:none;\">\n",
              "\n",
              "<svg xmlns=\"http://www.w3.org/2000/svg\" height=\"24px\"viewBox=\"0 0 24 24\"\n",
              "     width=\"24px\">\n",
              "    <g>\n",
              "        <path d=\"M19 3H5c-1.1 0-2 .9-2 2v14c0 1.1.9 2 2 2h14c1.1 0 2-.9 2-2V5c0-1.1-.9-2-2-2zM9 17H7v-7h2v7zm4 0h-2V7h2v10zm4 0h-2v-4h2v4z\"/>\n",
              "    </g>\n",
              "</svg>\n",
              "  </button>\n",
              "\n",
              "<style>\n",
              "  .colab-df-quickchart {\n",
              "      --bg-color: #E8F0FE;\n",
              "      --fill-color: #1967D2;\n",
              "      --hover-bg-color: #E2EBFA;\n",
              "      --hover-fill-color: #174EA6;\n",
              "      --disabled-fill-color: #AAA;\n",
              "      --disabled-bg-color: #DDD;\n",
              "  }\n",
              "\n",
              "  [theme=dark] .colab-df-quickchart {\n",
              "      --bg-color: #3B4455;\n",
              "      --fill-color: #D2E3FC;\n",
              "      --hover-bg-color: #434B5C;\n",
              "      --hover-fill-color: #FFFFFF;\n",
              "      --disabled-bg-color: #3B4455;\n",
              "      --disabled-fill-color: #666;\n",
              "  }\n",
              "\n",
              "  .colab-df-quickchart {\n",
              "    background-color: var(--bg-color);\n",
              "    border: none;\n",
              "    border-radius: 50%;\n",
              "    cursor: pointer;\n",
              "    display: none;\n",
              "    fill: var(--fill-color);\n",
              "    height: 32px;\n",
              "    padding: 0;\n",
              "    width: 32px;\n",
              "  }\n",
              "\n",
              "  .colab-df-quickchart:hover {\n",
              "    background-color: var(--hover-bg-color);\n",
              "    box-shadow: 0 1px 2px rgba(60, 64, 67, 0.3), 0 1px 3px 1px rgba(60, 64, 67, 0.15);\n",
              "    fill: var(--button-hover-fill-color);\n",
              "  }\n",
              "\n",
              "  .colab-df-quickchart-complete:disabled,\n",
              "  .colab-df-quickchart-complete:disabled:hover {\n",
              "    background-color: var(--disabled-bg-color);\n",
              "    fill: var(--disabled-fill-color);\n",
              "    box-shadow: none;\n",
              "  }\n",
              "\n",
              "  .colab-df-spinner {\n",
              "    border: 2px solid var(--fill-color);\n",
              "    border-color: transparent;\n",
              "    border-bottom-color: var(--fill-color);\n",
              "    animation:\n",
              "      spin 1s steps(1) infinite;\n",
              "  }\n",
              "\n",
              "  @keyframes spin {\n",
              "    0% {\n",
              "      border-color: transparent;\n",
              "      border-bottom-color: var(--fill-color);\n",
              "      border-left-color: var(--fill-color);\n",
              "    }\n",
              "    20% {\n",
              "      border-color: transparent;\n",
              "      border-left-color: var(--fill-color);\n",
              "      border-top-color: var(--fill-color);\n",
              "    }\n",
              "    30% {\n",
              "      border-color: transparent;\n",
              "      border-left-color: var(--fill-color);\n",
              "      border-top-color: var(--fill-color);\n",
              "      border-right-color: var(--fill-color);\n",
              "    }\n",
              "    40% {\n",
              "      border-color: transparent;\n",
              "      border-right-color: var(--fill-color);\n",
              "      border-top-color: var(--fill-color);\n",
              "    }\n",
              "    60% {\n",
              "      border-color: transparent;\n",
              "      border-right-color: var(--fill-color);\n",
              "    }\n",
              "    80% {\n",
              "      border-color: transparent;\n",
              "      border-right-color: var(--fill-color);\n",
              "      border-bottom-color: var(--fill-color);\n",
              "    }\n",
              "    90% {\n",
              "      border-color: transparent;\n",
              "      border-bottom-color: var(--fill-color);\n",
              "    }\n",
              "  }\n",
              "</style>\n",
              "\n",
              "  <script>\n",
              "    async function quickchart(key) {\n",
              "      const quickchartButtonEl =\n",
              "        document.querySelector('#' + key + ' button');\n",
              "      quickchartButtonEl.disabled = true;  // To prevent multiple clicks.\n",
              "      quickchartButtonEl.classList.add('colab-df-spinner');\n",
              "      try {\n",
              "        const charts = await google.colab.kernel.invokeFunction(\n",
              "            'suggestCharts', [key], {});\n",
              "      } catch (error) {\n",
              "        console.error('Error during call to suggestCharts:', error);\n",
              "      }\n",
              "      quickchartButtonEl.classList.remove('colab-df-spinner');\n",
              "      quickchartButtonEl.classList.add('colab-df-quickchart-complete');\n",
              "    }\n",
              "    (() => {\n",
              "      let quickchartButtonEl =\n",
              "        document.querySelector('#df-5f22413f-76cf-44fa-a597-580d3016f576 button');\n",
              "      quickchartButtonEl.style.display =\n",
              "        google.colab.kernel.accessAllowed ? 'block' : 'none';\n",
              "    })();\n",
              "  </script>\n",
              "</div>\n",
              "\n",
              "  <div id=\"id_671e1e3a-7950-4d54-bae4-f1531a19c04c\">\n",
              "    <style>\n",
              "      .colab-df-generate {\n",
              "        background-color: #E8F0FE;\n",
              "        border: none;\n",
              "        border-radius: 50%;\n",
              "        cursor: pointer;\n",
              "        display: none;\n",
              "        fill: #1967D2;\n",
              "        height: 32px;\n",
              "        padding: 0 0 0 0;\n",
              "        width: 32px;\n",
              "      }\n",
              "\n",
              "      .colab-df-generate:hover {\n",
              "        background-color: #E2EBFA;\n",
              "        box-shadow: 0px 1px 2px rgba(60, 64, 67, 0.3), 0px 1px 3px 1px rgba(60, 64, 67, 0.15);\n",
              "        fill: #174EA6;\n",
              "      }\n",
              "\n",
              "      [theme=dark] .colab-df-generate {\n",
              "        background-color: #3B4455;\n",
              "        fill: #D2E3FC;\n",
              "      }\n",
              "\n",
              "      [theme=dark] .colab-df-generate:hover {\n",
              "        background-color: #434B5C;\n",
              "        box-shadow: 0px 1px 3px 1px rgba(0, 0, 0, 0.15);\n",
              "        filter: drop-shadow(0px 1px 2px rgba(0, 0, 0, 0.3));\n",
              "        fill: #FFFFFF;\n",
              "      }\n",
              "    </style>\n",
              "    <button class=\"colab-df-generate\" onclick=\"generateWithVariable('df')\"\n",
              "            title=\"Generate code using this dataframe.\"\n",
              "            style=\"display:none;\">\n",
              "\n",
              "  <svg xmlns=\"http://www.w3.org/2000/svg\" height=\"24px\"viewBox=\"0 0 24 24\"\n",
              "       width=\"24px\">\n",
              "    <path d=\"M7,19H8.4L18.45,9,17,7.55,7,17.6ZM5,21V16.75L18.45,3.32a2,2,0,0,1,2.83,0l1.4,1.43a1.91,1.91,0,0,1,.58,1.4,1.91,1.91,0,0,1-.58,1.4L9.25,21ZM18.45,9,17,7.55Zm-12,3A5.31,5.31,0,0,0,4.9,8.1,5.31,5.31,0,0,0,1,6.5,5.31,5.31,0,0,0,4.9,4.9,5.31,5.31,0,0,0,6.5,1,5.31,5.31,0,0,0,8.1,4.9,5.31,5.31,0,0,0,12,6.5,5.46,5.46,0,0,0,6.5,12Z\"/>\n",
              "  </svg>\n",
              "    </button>\n",
              "    <script>\n",
              "      (() => {\n",
              "      const buttonEl =\n",
              "        document.querySelector('#id_671e1e3a-7950-4d54-bae4-f1531a19c04c button.colab-df-generate');\n",
              "      buttonEl.style.display =\n",
              "        google.colab.kernel.accessAllowed ? 'block' : 'none';\n",
              "\n",
              "      buttonEl.onclick = () => {\n",
              "        google.colab.notebook.generateWithVariable('df');\n",
              "      }\n",
              "      })();\n",
              "    </script>\n",
              "  </div>\n",
              "\n",
              "    </div>\n",
              "  </div>\n"
            ],
            "application/vnd.google.colaboratory.intrinsic+json": {
              "type": "dataframe",
              "variable_name": "df",
              "summary": "{\n  \"name\": \"df\",\n  \"rows\": 2082,\n  \"fields\": [\n    {\n      \"column\": \"source_name\",\n      \"properties\": {\n        \"dtype\": \"category\",\n        \"num_unique_values\": 123,\n        \"samples\": [\n          \"ANH NG\\u1eee DU H\\u1eccC ETEST\",\n          \"Tr\\u01b0\\u1eddng Anh Ng\\u1eef C.I.C C\\u1ea7n Th\\u01a1\",\n          \"ILA C\\u1ea7n Th\\u01a1 (T\\u1ea7ng 3 Vincom Xu\\u00e2n Kh\\u00e1nh)\"\n        ],\n        \"semantic_type\": \"\",\n        \"description\": \"\"\n      }\n    },\n    {\n      \"column\": \"rating\",\n      \"properties\": {\n        \"dtype\": \"number\",\n        \"std\": 1,\n        \"min\": 1,\n        \"max\": 5,\n        \"num_unique_values\": 5,\n        \"samples\": [\n          5,\n          1,\n          3\n        ],\n        \"semantic_type\": \"\",\n        \"description\": \"\"\n      }\n    },\n    {\n      \"column\": \"review\",\n      \"properties\": {\n        \"dtype\": \"string\",\n        \"num_unique_values\": 1995,\n        \"samples\": [\n          \"gi\\u00e1o vi\\u00ean vui v\\u1ebb, d\\u1ea1y d\\u1ec5 hi\\u1ec3u\",\n          \"'Trung t\\u00e2m c\\u00f3 m\\u1ed9t \\u0111\\u1ed9i ng\\u0169 gi\\u00e1o vi\\u00ean chuy\\u00ean nghi\\u1ec7p.T\\u00f4i th\\u1ef1c s\\u1ef1 \\u1ea5n t\\u01b0\\u1ee3ng v\\u1edbi c\\u00e1ch gi\\u00e1o vi\\u00ean Phuong NHU truy\\u1ec1n \\u0111\\u1ea1t ki\\u1ebfn \\u200b\\u200bth\\u1ee9c, r\\u1ea5t tinh t\\u1ebf, \\u0111\\u01a1n gi\\u1ea3n nh\\u01b0ng hi\\u1ec7u qu\\u1ea3 cao.'\",\n          \"'L\\u1ef1a ch\\u1ecdn h\\u1ecdc \\u1edf Jaxtina qu\\u00e1 l\\u00e0 \\u0111\\u00fang \\u0111\\u1eafn \\u1ea1. C\\u00e1c ch\\u1ecb t\\u01b0 v\\u1ea5n si\\u00eau d\\u1ec5 th\\u01b0\\u01a1ng v\\u00e0 r\\u1ea5t nhi\\u1ec7t t\\u00ecnh h\\u1ed7 tr\\u1ee3 h\\u1ecdc vi\\u00ean. M\\u00ecnh \\u0111ang theo h\\u1ecdc \\u0111\\u1ec3 \\u0111\\u1ea1t target IELTS 7.0'\"\n        ],\n        \"semantic_type\": \"\",\n        \"description\": \"\"\n      }\n    },\n    {\n      \"column\": \"cleaned_review\",\n      \"properties\": {\n        \"dtype\": \"string\",\n        \"num_unique_values\": 1920,\n        \"samples\": [\n          \"gi\\u00e1o vi\\u00ean d\\u1ea1y nhi\\u1ec7t t\\u00ecnh\",\n          \"sau tham gia kh\\u00f3a h\\u1ecdc giao ti\\u1ebfp mes th\\u1ea5y s\\u1ef1 c\\u1ea3i thi\\u1ec7n k\\u1ef9 n\\u0103ng nghe ph\\u00e1t \\u00e2m 3 gi\\u00e1o vi\\u00ean nhi\\u1ec7t t\\u00ecnh chuy\\u00ean nghi\\u1ec7p\",\n          \"tham gia c\\u00e2u l\\u1ea1c b\\u1ed9 amazing saturday tr\\u01b0\\u1eddng \\u1ea5n t\\u01b0\\u1ee3ng c\\u00e1ch d\\u1ea1y speak up hi\\u1ec7n h\\u1ecdc 6 th\\u00e1ng th\\u1ea5y kh\\u00e1 h\\u00e0i l\\u00f2ng l\\u1ecbch h\\u1ecdc linh ho\\u1ea1t gi\\u00e1o vi\\u00ean c\\u1ed1 v\\u1ea5n s\\u00e1t sao ti\\u1ebfn \\u0111\\u1ed9 h\\u1ecdc t\\u1eadp tu\\u1ea7n tr\\u01b0\\u1eddng cam k\\u1ebft h\\u1ee3p\"\n        ],\n        \"semantic_type\": \"\",\n        \"description\": \"\"\n      }\n    },\n    {\n      \"column\": \"sentiment\",\n      \"properties\": {\n        \"dtype\": \"category\",\n        \"num_unique_values\": 2,\n        \"samples\": [\n          \"negative\",\n          \"positive\"\n        ],\n        \"semantic_type\": \"\",\n        \"description\": \"\"\n      }\n    }\n  ]\n}"
            }
          },
          "metadata": {},
          "execution_count": 12
        }
      ]
    },
    {
      "cell_type": "code",
      "source": [
        "sentiment_counts = df['sentiment'].value_counts()\n",
        "\n",
        "plt.figure(figsize=(8, 6))\n",
        "bars = sentiment_counts.plot(kind='bar', color='skyblue')\n",
        "plt.title('Gán nhãn cảm xúc', fontsize=12)\n",
        "plt.xlabel('Cảm xúc', fontsize=10)\n",
        "plt.ylabel('Số lượng đánh giá', fontsize=10)\n",
        "plt.xticks(rotation=0, fontsize=8)\n",
        "plt.yticks(fontsize=8)\n",
        "\n",
        "for bar in bars.patches:\n",
        "    plt.text(bar.get_x() + bar.get_width() / 2, bar.get_height(),\n",
        "             int(bar.get_height()), ha='center', va='bottom', fontsize=10)\n",
        "\n",
        "plt.show()"
      ],
      "metadata": {
        "colab": {
          "base_uri": "https://localhost:8080/",
          "height": 560
        },
        "id": "UOO_vSRQwu-M",
        "outputId": "557a9b66-a638-4216-effe-24499560dfb6"
      },
      "execution_count": 13,
      "outputs": [
        {
          "output_type": "display_data",
          "data": {
            "text/plain": [
              "<Figure size 800x600 with 1 Axes>"
            ],
            "image/png": "[encoded data removed]"
          },
          "metadata": {}
        }
      ]
    },
    {
      "cell_type": "markdown",
      "source": [
        "## Tách từ"
      ],
      "metadata": {
        "id": "zdhe25-LJDCf"
      }
    },
    {
      "cell_type": "code",
      "source": [
        "def tokenizer(text):\n",
        "    tokens = []\n",
        "    for sent in sent_tokenize(text):\n",
        "        words = word_tokenize(sent)\n",
        "        tokens.extend(words)\n",
        "    tokens = [word for word in tokens if word not in string.punctuation]\n",
        "\n",
        "    return tokens"
      ],
      "metadata": {
        "id": "_UakbQIgH-NS"
      },
      "execution_count": 14,
      "outputs": []
    },
    {
      "cell_type": "markdown",
      "source": [
        "## Wordcloud"
      ],
      "metadata": {
        "id": "tprpzdHhp9G2"
      }
    },
    {
      "cell_type": "code",
      "source": [
        "all_tokens = []\n",
        "for sentence in df['cleaned_review']:\n",
        "    normalized_sentence = preprocess_text(sentence)\n",
        "    tokens = tokenizer(normalized_sentence)\n",
        "    all_tokens.extend(tokens)\n",
        "\n",
        "text = ' '.join(all_tokens)\n",
        "\n",
        "# Tạo WordCloud\n",
        "wordcloud = WordCloud(width=600, height=400,\n",
        "                      background_color='white',\n",
        "                      stopwords=None,\n",
        "                      min_font_size=10, colormap='PuBu').generate(text)\n",
        "\n",
        "plt.figure(figsize=(6, 4), facecolor=None)\n",
        "plt.imshow(wordcloud, interpolation='bilinear')\n",
        "plt.axis(\"off\")\n",
        "plt.tight_layout(pad=0)\n",
        "\n",
        "plt.show()"
      ],
      "metadata": {
        "colab": {
          "base_uri": "https://localhost:8080/",
          "height": 436
        },
        "id": "7d-38NyjfQV7",
        "outputId": "5d6efd5c-9ed4-4820-d6c1-a39aa044dc0f"
      },
      "execution_count": 15,
      "outputs": [
        {
          "output_type": "display_data",
          "data": {
            "text/plain": [
              "<Figure size 600x400 with 1 Axes>"
            ],
            "image/png": "[encoded data removed]"
          },
          "metadata": {}
        }
      ]
    },
    {
      "cell_type": "markdown",
      "source": [
        "# Huấn luyện mô hình"
      ],
      "metadata": {
        "id": "NxuREqNLuSmW"
      }
    },
    {
      "cell_type": "code",
      "source": [
        "# Chia dữ liệu thành 70% train và 30% temp_data (chứa val và test)\n",
        "train_data, temp_data = train_test_split(df, test_size=0.3, random_state=42, stratify=df['sentiment'])\n",
        "\n",
        "# Chia temp_data thành 50% validation và 50% test\n",
        "val_data, test_data = train_test_split(temp_data, test_size=0.5, random_state=42, stratify=temp_data['sentiment'])\n",
        "\n",
        "# Tạo tập train, validation, và test cho mô hình Logistic Regression\n",
        "train_x = train_data['cleaned_review'].tolist()\n",
        "train_x=[preprocess_text(sentence)for sentence in train_x]\n",
        "all_tokens_train = [tokenizer(sentence) for sentence in train_x]\n",
        "\n",
        "valid_x = val_data['cleaned_review'].tolist()\n",
        "valid_x=[preprocess_text(sentence)for sentence in valid_x]\n",
        "all_tokens_valid = [tokenizer(sentence) for sentence in valid_x]\n",
        "\n",
        "test_x = test_data['cleaned_review'].tolist()\n",
        "test_x=[preprocess_text(sentence)for sentence in test_x]\n",
        "all_tokens_test = [tokenizer(sentence) for sentence in test_x]\n",
        "\n",
        "train_y = train_data['sentiment'].tolist()\n",
        "valid_y = val_data['sentiment'].tolist()\n",
        "test_y = test_data['sentiment'].tolist()"
      ],
      "metadata": {
        "id": "WUM1f2VjNvqV"
      },
      "execution_count": 16,
      "outputs": []
    },
    {
      "cell_type": "markdown",
      "source": [
        "## TF-IDF"
      ],
      "metadata": {
        "id": "maYP1vCUgBlt"
      }
    },
    {
      "cell_type": "code",
      "source": [
        "# Tạo TF-IDF cho tập train, validation và test\n",
        "vectorizer = TfidfVectorizer()\n",
        "\n",
        "# Fit và transform cho tập train\n",
        "train_x_tfidf = vectorizer.fit_transform(train_x)\n",
        "\n",
        "# Transform cho tập validation và test\n",
        "valid_x_tfidf = vectorizer.transform(valid_x)\n",
        "test_x_tfidf = vectorizer.transform(test_x)"
      ],
      "metadata": {
        "id": "lZ5s2ApXfYG7"
      },
      "execution_count": 17,
      "outputs": []
    },
    {
      "cell_type": "markdown",
      "source": [
        "## Word2Vec"
      ],
      "metadata": {
        "id": "Fg6ZWzPWHIty"
      }
    },
    {
      "cell_type": "code",
      "source": [
        "# Cài đặt các chỉ số\n",
        "min_count = 2\n",
        "window = 10\n",
        "vector_size = 100\n",
        "alpha = 1e-3\n",
        "min_alpha = 1e-4\n",
        "negative = 10"
      ],
      "metadata": {
        "id": "7estUFfcHIDN"
      },
      "execution_count": 18,
      "outputs": []
    },
    {
      "cell_type": "code",
      "source": [
        "word_sents_train=[sent for sent in all_tokens_train]\n",
        "# Tạo mô hình Word2Vec\n",
        "w2v_model = Word2Vec(min_count=min_count, window=window, vector_size=vector_size, alpha=alpha, min_alpha=min_alpha, negative=negative, sg=1)\n",
        "# Xây dựng từ điển cho tập dữ liệu\n",
        "w2v_model.build_vocab(word_sents_train)\n",
        "#Huấn luyện mô hình\n",
        "w2v_model.train(word_sents_train, total_examples=w2v_model.corpus_count, epochs=100, report_delay=1,compute_loss=True)"
      ],
      "metadata": {
        "colab": {
          "base_uri": "https://localhost:8080/"
        },
        "id": "i4guUas0Hiu8",
        "outputId": "d81abda3-3269-44da-d539-b9f2a305d5db"
      },
      "execution_count": 19,
      "outputs": [
        {
          "output_type": "execute_result",
          "data": {
            "text/plain": [
              "(1323332, 1918800)"
            ]
          },
          "metadata": {},
          "execution_count": 19
        }
      ]
    },
    {
      "cell_type": "code",
      "source": [
        "# Huấn luyện cho tập all_tokens_test\n",
        "word_sents_test = [sent for sent in all_tokens_test]\n",
        "w2v_model.build_vocab(word_sents_test, update=True)\n",
        "w2v_model.train(word_sents_test, total_examples=w2v_model.corpus_count, epochs=100, report_delay=1, compute_loss=True)"
      ],
      "metadata": {
        "colab": {
          "base_uri": "https://localhost:8080/"
        },
        "id": "hjtC5Wr1Ahnt",
        "outputId": "c2395db8-7bdb-4c05-869b-af4580c81428"
      },
      "execution_count": 20,
      "outputs": [
        {
          "output_type": "stream",
          "name": "stderr",
          "text": [
            "WARNING:gensim.models.word2vec:Effective 'alpha' higher than previous training cycles\n"
          ]
        },
        {
          "output_type": "execute_result",
          "data": {
            "text/plain": [
              "(251921, 394700)"
            ]
          },
          "metadata": {},
          "execution_count": 20
        }
      ]
    },
    {
      "cell_type": "code",
      "source": [
        "# Huấn luyện cho tập all_tokens_valid\n",
        "word_sents_valid = [sent for sent in all_tokens_valid]\n",
        "w2v_model.build_vocab(word_sents_valid, update=True)\n",
        "w2v_model.train(word_sents_valid, total_examples=w2v_model.corpus_count, epochs=100, report_delay=1, compute_loss=True)\n",
        "\n",
        "# Lưu mô hình sau khi huấn luyện\n",
        "w2v_model.save(\"model_w2v\")"
      ],
      "metadata": {
        "colab": {
          "base_uri": "https://localhost:8080/"
        },
        "id": "VOXSHYGJAjPR",
        "outputId": "6e258bb7-8eec-46a4-f8e4-e23458646fdc"
      },
      "execution_count": 21,
      "outputs": [
        {
          "output_type": "stream",
          "name": "stderr",
          "text": [
            "WARNING:gensim.models.word2vec:Effective 'alpha' higher than previous training cycles\n"
          ]
        }
      ]
    },
    {
      "cell_type": "markdown",
      "source": [
        "## SMOTE"
      ],
      "metadata": {
        "id": "Fv0M0hnTqRO9"
      }
    },
    {
      "cell_type": "code",
      "source": [
        "# Áp dụng SMOTE để cân bằng dữ liệu\n",
        "smote = SMOTE(random_state=42)\n",
        "X_resampled, y_resampled = smote.fit_resample(train_x_tfidf, train_y)"
      ],
      "metadata": {
        "id": "76mg2mopp7bJ"
      },
      "execution_count": 22,
      "outputs": []
    },
    {
      "cell_type": "markdown",
      "source": [
        "## Naive Bayes"
      ],
      "metadata": {
        "id": "5yp6ZXg5gRIt"
      }
    },
    {
      "cell_type": "code",
      "source": [
        "# Khởi tạo và huấn luyện mô hình Naive Bayes\n",
        "nb_model = MultinomialNB()\n",
        "nb_model.fit(X_resampled, y_resampled)\n",
        "\n",
        "# Dự đoán trên tập test\n",
        "y_pred_nb = nb_model.predict(test_x_tfidf)"
      ],
      "metadata": {
        "id": "0ejsJP_6m-Il"
      },
      "execution_count": 23,
      "outputs": []
    },
    {
      "cell_type": "code",
      "source": [
        "from sklearn.metrics import classification_report\n",
        "print(classification_report(test_y, y_pred_nb))"
      ],
      "metadata": {
        "colab": {
          "base_uri": "https://localhost:8080/"
        },
        "id": "eum2kQBghGNA",
        "outputId": "acfc8323-5a73-491f-89bb-17ae4e5d3e00"
      },
      "execution_count": 24,
      "outputs": [
        {
          "output_type": "stream",
          "name": "stdout",
          "text": [
            "              precision    recall  f1-score   support\n",
            "\n",
            "    negative       0.77      0.83      0.80        36\n",
            "    positive       0.98      0.97      0.97       277\n",
            "\n",
            "    accuracy                           0.95       313\n",
            "   macro avg       0.87      0.90      0.89       313\n",
            "weighted avg       0.95      0.95      0.95       313\n",
            "\n"
          ]
        }
      ]
    },
    {
      "cell_type": "code",
      "source": [
        "# Lưu mô hình\n",
        "dump(nb_model, 'model_naive_baiyes.joblib')"
      ],
      "metadata": {
        "colab": {
          "base_uri": "https://localhost:8080/"
        },
        "id": "sPp4euE-ddvN",
        "outputId": "ba60d68c-fad6-4d94-e24d-fba2f8e54daa"
      },
      "execution_count": 29,
      "outputs": [
        {
          "output_type": "execute_result",
          "data": {
            "text/plain": [
              "['model_naive_baiyes.joblib']"
            ]
          },
          "metadata": {},
          "execution_count": 29
        }
      ]
    },
    {
      "cell_type": "code",
      "source": [
        "accuracy = accuracy_score(test_y, y_pred_nb)\n",
        "precision = precision_score(test_y, y_pred_nb, average='weighted')\n",
        "recall = recall_score(test_y, y_pred_nb, average='weighted')\n",
        "f1 = f1_score(test_y, y_pred_nb, average='weighted')\n",
        "print(f'Accuracy: {accuracy}')\n",
        "print(f'Precision: {precision}')\n",
        "print(f'Recall: {recall}')\n",
        "print(f'F1 Score: {f1}')"
      ],
      "metadata": {
        "colab": {
          "base_uri": "https://localhost:8080/"
        },
        "id": "6cABjDrinfv3",
        "outputId": "448e009f-6acf-4af3-c35b-82f6c7f401c1"
      },
      "execution_count": null,
      "outputs": [
        {
          "output_type": "stream",
          "name": "stdout",
          "text": [
            "Accuracy: 0.952076677316294\n",
            "Precision: 0.9540786398135807\n",
            "Recall: 0.952076677316294\n",
            "F1 Score: 0.9529046810040415\n"
          ]
        }
      ]
    },
    {
      "cell_type": "code",
      "source": [
        "conf_mat = confusion_matrix(test_y, y_pred_nb)\n",
        "\n",
        "row_sums = conf_mat.sum(axis=1)\n",
        "\n",
        "norm_conf_mat = conf_mat / row_sums[:, np.newaxis]\n",
        "\n",
        "labels = [f'{val:.2f}' for val in norm_conf_mat.flatten()]\n",
        "labels = np.asarray(labels).reshape(norm_conf_mat.shape)\n",
        "\n",
        "plt.figure(figsize=(5,4))\n",
        "sns.heatmap(norm_conf_mat, annot=labels, fmt='', cmap='Blues')\n",
        "plt.xlabel('Predicted')\n",
        "plt.ylabel('Actual')\n",
        "plt.title('Naive Bayes Confusion Matrix')\n",
        "plt.show()"
      ],
      "metadata": {
        "colab": {
          "base_uri": "https://localhost:8080/",
          "height": 410
        },
        "id": "scdLa9SBnPXr",
        "outputId": "31f0b68f-eaa4-4853-8b20-77a90c4f06e1"
      },
      "execution_count": null,
      "outputs": [
        {
          "output_type": "display_data",
          "data": {
            "text/plain": [
              "<Figure size 500x400 with 2 Axes>"
            ],
            "image/png": "[encoded data removed]"
          },
          "metadata": {}
        }
      ]
    },
    {
      "cell_type": "markdown",
      "source": [
        "## Logistic Regression"
      ],
      "metadata": {
        "id": "oPlc8tfveE9J"
      }
    },
    {
      "cell_type": "code",
      "source": [
        "# Khởi tạo mô hình Logistic Regression\n",
        "lr_model = LogisticRegression(random_state=42)\n",
        "\n",
        "# Huấn luyện mô hình với tập train\n",
        "lr_model.fit(X_resampled, y_resampled)\n",
        "\n",
        "# Dự đoán nhãn trên tập test\n",
        "y_pred_lr = lr_model.predict(test_x_tfidf)"
      ],
      "metadata": {
        "id": "FnPWSHfaoY9d"
      },
      "execution_count": 31,
      "outputs": []
    },
    {
      "cell_type": "code",
      "source": [
        "print(classification_report(test_y, y_pred_lr))"
      ],
      "metadata": {
        "colab": {
          "base_uri": "https://localhost:8080/"
        },
        "id": "5jwxEn6Ii8UG",
        "outputId": "ce77b769-a307-4d1f-8398-1cccd4b870d1"
      },
      "execution_count": 32,
      "outputs": [
        {
          "output_type": "stream",
          "name": "stdout",
          "text": [
            "              precision    recall  f1-score   support\n",
            "\n",
            "    negative       0.79      0.86      0.83        36\n",
            "    positive       0.98      0.97      0.98       277\n",
            "\n",
            "    accuracy                           0.96       313\n",
            "   macro avg       0.89      0.92      0.90       313\n",
            "weighted avg       0.96      0.96      0.96       313\n",
            "\n"
          ]
        }
      ]
    },
    {
      "cell_type": "code",
      "source": [
        "# Lưu mô hình\n",
        "dump(lr_model, 'model_logistic_regression.joblib')"
      ],
      "metadata": {
        "colab": {
          "base_uri": "https://localhost:8080/"
        },
        "id": "jx0IxophdlgY",
        "outputId": "6df21bea-e87b-4b79-cf57-28214e447053"
      },
      "execution_count": 33,
      "outputs": [
        {
          "output_type": "execute_result",
          "data": {
            "text/plain": [
              "['model_logistic_regression.joblib']"
            ]
          },
          "metadata": {},
          "execution_count": 33
        }
      ]
    },
    {
      "cell_type": "code",
      "source": [
        "accuracy = accuracy_score(test_y, y_pred_lr)\n",
        "precision = precision_score(test_y, y_pred_lr,  average='weighted')\n",
        "recall = recall_score(test_y, y_pred_lr,  average='weighted')\n",
        "f1 = f1_score(test_y, y_pred_lr,  average='weighted')\n",
        "print(f'Accuracy: {accuracy}')\n",
        "print(f'Precision: {precision}')\n",
        "print(f'Recall: {recall}')\n",
        "print(f'F1 Score: {f1}')"
      ],
      "metadata": {
        "colab": {
          "base_uri": "https://localhost:8080/"
        },
        "id": "fbt2pCrUowM-",
        "outputId": "37a6e787-b230-4ae1-a3be-1ca21ed3323d"
      },
      "execution_count": null,
      "outputs": [
        {
          "output_type": "stream",
          "name": "stdout",
          "text": [
            "Accuracy: 0.9584664536741214\n",
            "Precision: 0.9602576360697674\n",
            "Recall: 0.9584664536741214\n",
            "F1 Score: 0.9591840568701692\n"
          ]
        }
      ]
    },
    {
      "cell_type": "code",
      "source": [
        "conf_mat = confusion_matrix(test_y, y_pred_lr)\n",
        "\n",
        "row_sums = conf_mat.sum(axis=1)\n",
        "\n",
        "norm_conf_mat = conf_mat / row_sums[:, np.newaxis]\n",
        "\n",
        "labels = [f'{val:.2f}' for val in norm_conf_mat.flatten()]\n",
        "labels = np.asarray(labels).reshape(norm_conf_mat.shape)\n",
        "\n",
        "plt.figure(figsize=(5,4))\n",
        "sns.heatmap(norm_conf_mat, annot=labels, fmt='', cmap='Blues')\n",
        "plt.xlabel('Predicted')\n",
        "plt.ylabel('Actual')\n",
        "plt.title('Logistic Regression Confusion Matrix')\n",
        "plt.show()"
      ],
      "metadata": {
        "colab": {
          "base_uri": "https://localhost:8080/",
          "height": 410
        },
        "id": "6lpUDUTTo3_k",
        "outputId": "9d17c16d-3771-49e4-c345-60508b6c1786"
      },
      "execution_count": null,
      "outputs": [
        {
          "output_type": "display_data",
          "data": {
            "text/plain": [
              "<Figure size 500x400 with 2 Axes>"
            ],
            "image/png": "[encoded data removed]"
          },
          "metadata": {}
        }
      ]
    },
    {
      "cell_type": "markdown",
      "source": [
        "## Random Forest"
      ],
      "metadata": {
        "id": "-W_ExOpa0l0g"
      }
    },
    {
      "cell_type": "code",
      "source": [
        "# Tạo mô hình Random Forest\n",
        "model_rf = RandomForestClassifier(n_estimators=1000, random_state=42)\n",
        "\n",
        "# Huấn luyện mô hình với dữ liệu huấn luyện Word2Vec\n",
        "model_rf.fit(X_resampled, y_resampled)\n",
        "\n",
        "# Dự đoán với dữ liệu kiểm tra\n",
        "y_pred_rf= model_rf.predict(test_x_tfidf)"
      ],
      "metadata": {
        "id": "nn5saxSX0o1m"
      },
      "execution_count": 34,
      "outputs": []
    },
    {
      "cell_type": "code",
      "source": [
        "print(classification_report(test_y, y_pred_rf))"
      ],
      "metadata": {
        "colab": {
          "base_uri": "https://localhost:8080/"
        },
        "id": "JP0u5ogPjFoW",
        "outputId": "78f7b290-48e1-4d06-eb13-66590d167abc"
      },
      "execution_count": 35,
      "outputs": [
        {
          "output_type": "stream",
          "name": "stdout",
          "text": [
            "              precision    recall  f1-score   support\n",
            "\n",
            "    negative       0.88      0.64      0.74        36\n",
            "    positive       0.95      0.99      0.97       277\n",
            "\n",
            "    accuracy                           0.95       313\n",
            "   macro avg       0.92      0.81      0.86       313\n",
            "weighted avg       0.95      0.95      0.95       313\n",
            "\n"
          ]
        }
      ]
    },
    {
      "cell_type": "code",
      "source": [
        "# Lưu mô hình\n",
        "dump(model_rf, 'model_random_forest.joblib')"
      ],
      "metadata": {
        "colab": {
          "base_uri": "https://localhost:8080/"
        },
        "id": "K7iSDJmFdsTE",
        "outputId": "9d0b2423-a74c-4353-cbfc-6cca06abe4b7"
      },
      "execution_count": 38,
      "outputs": [
        {
          "output_type": "execute_result",
          "data": {
            "text/plain": [
              "['model_random_forest.joblib']"
            ]
          },
          "metadata": {},
          "execution_count": 38
        }
      ]
    },
    {
      "cell_type": "code",
      "source": [
        "accuracy = accuracy_score(test_y, y_pred_rf)\n",
        "precision = precision_score(test_y, y_pred_rf, average='weighted')\n",
        "recall = recall_score(test_y, y_pred_rf, average='weighted')\n",
        "f1 = f1_score(test_y, y_pred_rf, average='weighted')\n",
        "print(f'Accuracy: {accuracy}')\n",
        "print(f'Precision: {precision}')\n",
        "print(f'Recall: {recall}')\n",
        "print(f'F1 Score: {f1}')"
      ],
      "metadata": {
        "colab": {
          "base_uri": "https://localhost:8080/"
        },
        "id": "RBH6TR0S11gl",
        "outputId": "4e53ce6b-3d7d-4cec-b189-3580d3b2ea2b"
      },
      "execution_count": null,
      "outputs": [
        {
          "output_type": "stream",
          "name": "stdout",
          "text": [
            "Accuracy: 0.9488817891373802\n",
            "Precision: 0.9466425415930598\n",
            "Recall: 0.9488817891373802\n",
            "F1 Score: 0.9452125284057061\n"
          ]
        }
      ]
    },
    {
      "cell_type": "code",
      "source": [
        "conf_mat = confusion_matrix(test_y, y_pred_rf)\n",
        "\n",
        "row_sums = conf_mat.sum(axis=1)\n",
        "\n",
        "norm_conf_mat = conf_mat / row_sums[:, np.newaxis]\n",
        "\n",
        "labels = [f'{val:.2f}' for val in norm_conf_mat.flatten()]\n",
        "labels = np.asarray(labels).reshape(norm_conf_mat.shape)\n",
        "\n",
        "plt.figure(figsize=(5,4))\n",
        "sns.heatmap(norm_conf_mat, annot=labels, fmt='', cmap='Blues')\n",
        "plt.xlabel('Predicted Sentiment')\n",
        "plt.ylabel('Actual Sentiment')\n",
        "plt.title('Random Forest Confusion Matrix')\n",
        "plt.show()"
      ],
      "metadata": {
        "colab": {
          "base_uri": "https://localhost:8080/",
          "height": 410
        },
        "id": "q8fSxs7_1-Qu",
        "outputId": "9bbbff3b-bbea-41b9-8221-526f28eb7e82"
      },
      "execution_count": null,
      "outputs": [
        {
          "output_type": "display_data",
          "data": {
            "text/plain": [
              "<Figure size 500x400 with 2 Axes>"
            ],
            "image/png": "[encoded data removed]"
          },
          "metadata": {}
        }
      ]
    },
    {
      "cell_type": "markdown",
      "source": [
        "## LSTM"
      ],
      "metadata": {
        "id": "S7GG5kBEew6O"
      }
    },
    {
      "cell_type": "code",
      "source": [
        "# Kích thước của vector nhúng\n",
        "embedding_dim = w2v_model.vector_size\n",
        "\n",
        "# Xây dựng mô hình LSTM\n",
        "model_LSTM = Sequential()\n",
        "model_LSTM.add(LSTM(units=100, return_sequences=True, input_shape=(1, embedding_dim)))\n",
        "model_LSTM.add(Dropout(0.2))\n",
        "model_LSTM.add(LSTM(units=50, return_sequences=True))\n",
        "model_LSTM.add(Dropout(0.2))\n",
        "model_LSTM.add(LSTM(units=50, return_sequences=False))\n",
        "model_LSTM.add(Dropout(0.2))\n",
        "model_LSTM.add(Dense(units=2, activation=\"softmax\"))\n",
        "\n",
        "\n",
        "# Biên dịch mô hình\n",
        "model_LSTM.compile(optimizer='adam', loss='categorical_crossentropy', metrics=['accuracy'])\n",
        "\n",
        "print(model_LSTM.summary())"
      ],
      "metadata": {
        "colab": {
          "base_uri": "https://localhost:8080/",
          "height": 446
        },
        "id": "GIVdPdD9cAeB",
        "outputId": "1a73e639-2261-4446-9d2e-f4162a6a3d14"
      },
      "execution_count": 39,
      "outputs": [
        {
          "output_type": "stream",
          "name": "stderr",
          "text": [
            "/usr/local/lib/python3.10/dist-packages/keras/src/layers/rnn/rnn.py:204: UserWarning: Do not pass an `input_shape`/`input_dim` argument to a layer. When using Sequential models, prefer using an `Input(shape)` object as the first layer in the model instead.\n",
            "  super().__init__(**kwargs)\n"
          ]
        },
        {
          "output_type": "display_data",
          "data": {
            "text/plain": [
              "\u001b[1mModel: \"sequential\"\u001b[0m\n"
            ],
            "text/html": [
              "<pre style=\"white-space:pre;overflow-x:auto;line-height:normal;font-family:Menlo,'DejaVu Sans Mono',consolas,'Courier New',monospace\"><span style=\"font-weight: bold\">Model: \"sequential\"</span>\n",
              "</pre>\n"
            ]
          },
          "metadata": {}
        },
        {
          "output_type": "display_data",
          "data": {
            "text/plain": [
              "┏━━━━━━━━━━━━━━━━━━━━━━━━━━━━━━━━━━━━━━┳━━━━━━━━━━━━━━━━━━━━━━━━━━━━━┳━━━━━━━━━━━━━━━━━┓\n",
              "┃\u001b[1m \u001b[0m\u001b[1mLayer (type)                        \u001b[0m\u001b[1m \u001b[0m┃\u001b[1m \u001b[0m\u001b[1mOutput Shape               \u001b[0m\u001b[1m \u001b[0m┃\u001b[1m \u001b[0m\u001b[1m        Param #\u001b[0m\u001b[1m \u001b[0m┃\n",
              "┡━━━━━━━━━━━━━━━━━━━━━━━━━━━━━━━━━━━━━━╇━━━━━━━━━━━━━━━━━━━━━━━━━━━━━╇━━━━━━━━━━━━━━━━━┩\n",
              "│ lstm (\u001b[38;5;33mLSTM\u001b[0m)                          │ (\u001b[38;5;45mNone\u001b[0m, \u001b[38;5;34m1\u001b[0m, \u001b[38;5;34m100\u001b[0m)              │          \u001b[38;5;34m80,400\u001b[0m │\n",
              "├──────────────────────────────────────┼─────────────────────────────┼─────────────────┤\n",
              "│ dropout (\u001b[38;5;33mDropout\u001b[0m)                    │ (\u001b[38;5;45mNone\u001b[0m, \u001b[38;5;34m1\u001b[0m, \u001b[38;5;34m100\u001b[0m)              │               \u001b[38;5;34m0\u001b[0m │\n",
              "├──────────────────────────────────────┼─────────────────────────────┼─────────────────┤\n",
              "│ lstm_1 (\u001b[38;5;33mLSTM\u001b[0m)                        │ (\u001b[38;5;45mNone\u001b[0m, \u001b[38;5;34m1\u001b[0m, \u001b[38;5;34m50\u001b[0m)               │          \u001b[38;5;34m30,200\u001b[0m │\n",
              "├──────────────────────────────────────┼─────────────────────────────┼─────────────────┤\n",
              "│ dropout_1 (\u001b[38;5;33mDropout\u001b[0m)                  │ (\u001b[38;5;45mNone\u001b[0m, \u001b[38;5;34m1\u001b[0m, \u001b[38;5;34m50\u001b[0m)               │               \u001b[38;5;34m0\u001b[0m │\n",
              "├──────────────────────────────────────┼─────────────────────────────┼─────────────────┤\n",
              "│ lstm_2 (\u001b[38;5;33mLSTM\u001b[0m)                        │ (\u001b[38;5;45mNone\u001b[0m, \u001b[38;5;34m50\u001b[0m)                  │          \u001b[38;5;34m20,200\u001b[0m │\n",
              "├──────────────────────────────────────┼─────────────────────────────┼─────────────────┤\n",
              "│ dropout_2 (\u001b[38;5;33mDropout\u001b[0m)                  │ (\u001b[38;5;45mNone\u001b[0m, \u001b[38;5;34m50\u001b[0m)                  │               \u001b[38;5;34m0\u001b[0m │\n",
              "├──────────────────────────────────────┼─────────────────────────────┼─────────────────┤\n",
              "│ dense (\u001b[38;5;33mDense\u001b[0m)                        │ (\u001b[38;5;45mNone\u001b[0m, \u001b[38;5;34m2\u001b[0m)                   │             \u001b[38;5;34m102\u001b[0m │\n",
              "└──────────────────────────────────────┴─────────────────────────────┴─────────────────┘\n"
            ],
            "text/html": [
              "<pre style=\"white-space:pre;overflow-x:auto;line-height:normal;font-family:Menlo,'DejaVu Sans Mono',consolas,'Courier New',monospace\">┏━━━━━━━━━━━━━━━━━━━━━━━━━━━━━━━━━━━━━━┳━━━━━━━━━━━━━━━━━━━━━━━━━━━━━┳━━━━━━━━━━━━━━━━━┓\n",
              "┃<span style=\"font-weight: bold\"> Layer (type)                         </span>┃<span style=\"font-weight: bold\"> Output Shape                </span>┃<span style=\"font-weight: bold\">         Param # </span>┃\n",
              "┡━━━━━━━━━━━━━━━━━━━━━━━━━━━━━━━━━━━━━━╇━━━━━━━━━━━━━━━━━━━━━━━━━━━━━╇━━━━━━━━━━━━━━━━━┩\n",
              "│ lstm (<span style=\"color: #0087ff; text-decoration-color: #0087ff\">LSTM</span>)                          │ (<span style=\"color: #00d7ff; text-decoration-color: #00d7ff\">None</span>, <span style=\"color: #00af00; text-decoration-color: #00af00\">1</span>, <span style=\"color: #00af00; text-decoration-color: #00af00\">100</span>)              │          <span style=\"color: #00af00; text-decoration-color: #00af00\">80,400</span> │\n",
              "├──────────────────────────────────────┼─────────────────────────────┼─────────────────┤\n",
              "│ dropout (<span style=\"color: #0087ff; text-decoration-color: #0087ff\">Dropout</span>)                    │ (<span style=\"color: #00d7ff; text-decoration-color: #00d7ff\">None</span>, <span style=\"color: #00af00; text-decoration-color: #00af00\">1</span>, <span style=\"color: #00af00; text-decoration-color: #00af00\">100</span>)              │               <span style=\"color: #00af00; text-decoration-color: #00af00\">0</span> │\n",
              "├──────────────────────────────────────┼─────────────────────────────┼─────────────────┤\n",
              "│ lstm_1 (<span style=\"color: #0087ff; text-decoration-color: #0087ff\">LSTM</span>)                        │ (<span style=\"color: #00d7ff; text-decoration-color: #00d7ff\">None</span>, <span style=\"color: #00af00; text-decoration-color: #00af00\">1</span>, <span style=\"color: #00af00; text-decoration-color: #00af00\">50</span>)               │          <span style=\"color: #00af00; text-decoration-color: #00af00\">30,200</span> │\n",
              "├──────────────────────────────────────┼─────────────────────────────┼─────────────────┤\n",
              "│ dropout_1 (<span style=\"color: #0087ff; text-decoration-color: #0087ff\">Dropout</span>)                  │ (<span style=\"color: #00d7ff; text-decoration-color: #00d7ff\">None</span>, <span style=\"color: #00af00; text-decoration-color: #00af00\">1</span>, <span style=\"color: #00af00; text-decoration-color: #00af00\">50</span>)               │               <span style=\"color: #00af00; text-decoration-color: #00af00\">0</span> │\n",
              "├──────────────────────────────────────┼─────────────────────────────┼─────────────────┤\n",
              "│ lstm_2 (<span style=\"color: #0087ff; text-decoration-color: #0087ff\">LSTM</span>)                        │ (<span style=\"color: #00d7ff; text-decoration-color: #00d7ff\">None</span>, <span style=\"color: #00af00; text-decoration-color: #00af00\">50</span>)                  │          <span style=\"color: #00af00; text-decoration-color: #00af00\">20,200</span> │\n",
              "├──────────────────────────────────────┼─────────────────────────────┼─────────────────┤\n",
              "│ dropout_2 (<span style=\"color: #0087ff; text-decoration-color: #0087ff\">Dropout</span>)                  │ (<span style=\"color: #00d7ff; text-decoration-color: #00d7ff\">None</span>, <span style=\"color: #00af00; text-decoration-color: #00af00\">50</span>)                  │               <span style=\"color: #00af00; text-decoration-color: #00af00\">0</span> │\n",
              "├──────────────────────────────────────┼─────────────────────────────┼─────────────────┤\n",
              "│ dense (<span style=\"color: #0087ff; text-decoration-color: #0087ff\">Dense</span>)                        │ (<span style=\"color: #00d7ff; text-decoration-color: #00d7ff\">None</span>, <span style=\"color: #00af00; text-decoration-color: #00af00\">2</span>)                   │             <span style=\"color: #00af00; text-decoration-color: #00af00\">102</span> │\n",
              "└──────────────────────────────────────┴─────────────────────────────┴─────────────────┘\n",
              "</pre>\n"
            ]
          },
          "metadata": {}
        },
        {
          "output_type": "display_data",
          "data": {
            "text/plain": [
              "\u001b[1m Total params: \u001b[0m\u001b[38;5;34m130,902\u001b[0m (511.34 KB)\n"
            ],
            "text/html": [
              "<pre style=\"white-space:pre;overflow-x:auto;line-height:normal;font-family:Menlo,'DejaVu Sans Mono',consolas,'Courier New',monospace\"><span style=\"font-weight: bold\"> Total params: </span><span style=\"color: #00af00; text-decoration-color: #00af00\">130,902</span> (511.34 KB)\n",
              "</pre>\n"
            ]
          },
          "metadata": {}
        },
        {
          "output_type": "display_data",
          "data": {
            "text/plain": [
              "\u001b[1m Trainable params: \u001b[0m\u001b[38;5;34m130,902\u001b[0m (511.34 KB)\n"
            ],
            "text/html": [
              "<pre style=\"white-space:pre;overflow-x:auto;line-height:normal;font-family:Menlo,'DejaVu Sans Mono',consolas,'Courier New',monospace\"><span style=\"font-weight: bold\"> Trainable params: </span><span style=\"color: #00af00; text-decoration-color: #00af00\">130,902</span> (511.34 KB)\n",
              "</pre>\n"
            ]
          },
          "metadata": {}
        },
        {
          "output_type": "display_data",
          "data": {
            "text/plain": [
              "\u001b[1m Non-trainable params: \u001b[0m\u001b[38;5;34m0\u001b[0m (0.00 B)\n"
            ],
            "text/html": [
              "<pre style=\"white-space:pre;overflow-x:auto;line-height:normal;font-family:Menlo,'DejaVu Sans Mono',consolas,'Courier New',monospace\"><span style=\"font-weight: bold\"> Non-trainable params: </span><span style=\"color: #00af00; text-decoration-color: #00af00\">0</span> (0.00 B)\n",
              "</pre>\n"
            ]
          },
          "metadata": {}
        },
        {
          "output_type": "stream",
          "name": "stdout",
          "text": [
            "None\n"
          ]
        }
      ]
    },
    {
      "cell_type": "code",
      "source": [
        "def get_vector(word_list, model):\n",
        "    vec = np.zeros(model.vector_size).reshape((1, model.vector_size))\n",
        "    count = 0.\n",
        "    for word in word_list:\n",
        "        if word in model.wv:\n",
        "            vec += model.wv.get_vector(word).reshape((1, model.vector_size))\n",
        "            count += 1.\n",
        "    if count != 0:\n",
        "        vec /= count\n",
        "    return vec\n",
        "\n",
        "# Tạo dữ liệu cho huấn luyện\n",
        "X_train = np.concatenate([get_vector(sent, w2v_model) for sent in all_tokens_train])\n",
        "X_valid = np.concatenate([get_vector(sent, w2v_model) for sent in all_tokens_valid])"
      ],
      "metadata": {
        "id": "kkZN-Jb4e4W3"
      },
      "execution_count": 40,
      "outputs": []
    },
    {
      "cell_type": "code",
      "source": [
        "from sklearn.preprocessing import LabelEncoderlabel_encoder = LabelEncoder()\n",
        "\n",
        "train_y_encoded = label_encoder.fit_transform(train_y)\n",
        "valid_y_encoded = label_encoder.transform(valid_y)\n",
        "\n",
        "train_y_categorical = to_categorical(train_y_encoded)\n",
        "valid_y_categorical = to_categorical(valid_y_encoded)\n",
        "\n",
        "X_train = X_train.reshape(-1, 1, embedding_dim)\n",
        "X_valid = X_valid.reshape(-1, 1, embedding_dim)"
      ],
      "metadata": {
        "id": "BwAjrSL-EGWD"
      },
      "execution_count": 41,
      "outputs": []
    },
    {
      "cell_type": "code",
      "source": [
        "class_weights = class_weight.compute_class_weight(\n",
        "    class_weight='balanced',\n",
        "    classes=np.unique(train_y_encoded),\n",
        "    y=train_y_encoded\n",
        ")\n",
        "\n",
        "class_weight_dict = {i: class_weights[i] for i in range(len(class_weights))}\n",
        "print(class_weight_dict)"
      ],
      "metadata": {
        "colab": {
          "base_uri": "https://localhost:8080/"
        },
        "id": "_e05oN_CZlTK",
        "outputId": "b738a8b5-78bb-45a9-8c30-caee99039ab1"
      },
      "execution_count": 42,
      "outputs": [
        {
          "output_type": "stream",
          "name": "stdout",
          "text": [
            "{0: 4.442073170731708, 1: 0.5634184068058778}\n"
          ]
        }
      ]
    },
    {
      "cell_type": "code",
      "source": [
        "# Huấn luyện mô hình\n",
        "early_stopping = EarlyStopping(monitor='val_loss', patience=3, restore_best_weights=True)\n",
        "model_LSTM.fit(X_train, train_y_categorical, epochs=50, batch_size=32, validation_data=(X_valid, valid_y_categorical), class_weight=class_weight_dict, callbacks=[early_stopping])"
      ],
      "metadata": {
        "colab": {
          "base_uri": "https://localhost:8080/"
        },
        "id": "bUvJUNOMEfa4",
        "outputId": "0fa08060-92ee-47e5-9091-b5ce8b7ae277"
      },
      "execution_count": 43,
      "outputs": [
        {
          "output_type": "stream",
          "name": "stdout",
          "text": [
            "Epoch 1/50\n",
            "\u001b[1m46/46\u001b[0m \u001b[32m━━━━━━━━━━━━━━━━━━━━\u001b[0m\u001b[37m\u001b[0m \u001b[1m9s\u001b[0m 30ms/step - accuracy: 0.1817 - loss: 0.7085 - val_accuracy: 0.8814 - val_loss: 0.6801\n",
            "Epoch 2/50\n",
            "\u001b[1m46/46\u001b[0m \u001b[32m━━━━━━━━━━━━━━━━━━━━\u001b[0m\u001b[37m\u001b[0m \u001b[1m0s\u001b[0m 8ms/step - accuracy: 0.8809 - loss: 0.6657 - val_accuracy: 0.7468 - val_loss: 0.5617\n",
            "Epoch 3/50\n",
            "\u001b[1m46/46\u001b[0m \u001b[32m━━━━━━━━━━━━━━━━━━━━\u001b[0m\u001b[37m\u001b[0m \u001b[1m1s\u001b[0m 12ms/step - accuracy: 0.6704 - loss: 0.6071 - val_accuracy: 0.5353 - val_loss: 0.6610\n",
            "Epoch 4/50\n",
            "\u001b[1m46/46\u001b[0m \u001b[32m━━━━━━━━━━━━━━━━━━━━\u001b[0m\u001b[37m\u001b[0m \u001b[1m1s\u001b[0m 19ms/step - accuracy: 0.6209 - loss: 0.5463 - val_accuracy: 0.5801 - val_loss: 0.6151\n",
            "Epoch 5/50\n",
            "\u001b[1m46/46\u001b[0m \u001b[32m━━━━━━━━━━━━━━━━━━━━\u001b[0m\u001b[37m\u001b[0m \u001b[1m1s\u001b[0m 15ms/step - accuracy: 0.6579 - loss: 0.5718 - val_accuracy: 0.5609 - val_loss: 0.6277\n"
          ]
        },
        {
          "output_type": "execute_result",
          "data": {
            "text/plain": [
              "<keras.src.callbacks.history.History at 0x7b3640b0ffa0>"
            ]
          },
          "metadata": {},
          "execution_count": 43
        }
      ]
    },
    {
      "cell_type": "code",
      "source": [
        "# Lưu mô hình\n",
        "model_LSTM.save('model_lstm.h5')"
      ],
      "metadata": {
        "colab": {
          "base_uri": "https://localhost:8080/"
        },
        "id": "RPFU_q_2dxa6",
        "outputId": "113b076d-61e8-48da-db73-d6b010699533"
      },
      "execution_count": 48,
      "outputs": [
        {
          "output_type": "stream",
          "name": "stderr",
          "text": [
            "WARNING:absl:You are saving your model as an HDF5 file via `model.save()` or `keras.saving.save_model(model)`. This file format is considered legacy. We recommend using instead the native Keras format, e.g. `model.save('my_model.keras')` or `keras.saving.save_model(model, 'my_model.keras')`. \n"
          ]
        }
      ]
    },
    {
      "cell_type": "code",
      "source": [
        "X_test = np.concatenate([get_vector(sent, w2v_model) for sent in all_tokens_test])\n",
        "X_test = X_test.reshape(-1, 1, embedding_dim)\n",
        "\n",
        "# Dự đoán nhãn cho dữ liệu kiểm tra\n",
        "y_pred = model_LSTM.predict(X_test)\n",
        "y_pred = np.argmax(y_pred, axis=1)\n",
        "\n",
        "y_pred = ['positive' if label == 1 else 'negative' for label in y_pred]\n",
        "\n",
        "y_true = test_y\n",
        "\n",
        "# Tính toán các chỉ số\n",
        "accuracy = accuracy_score(y_true, y_pred)\n",
        "recall = recall_score(y_true, y_pred, average='macro')\n",
        "precision = precision_score(y_true, y_pred, average='macro')\n",
        "f1 = f1_score(y_true, y_pred, average='macro')\n",
        "\n",
        "print(f\"Accuracy: {accuracy}\")\n",
        "print(f\"Recall: {recall}\")\n",
        "print(f\"Precision: {precision}\")\n",
        "print(f\"F1 Score: {f1}\")"
      ],
      "metadata": {
        "colab": {
          "base_uri": "https://localhost:8080/"
        },
        "id": "gv_yhl9lPX4F",
        "outputId": "d158febd-8473-44fc-feac-8d4b79e2ca88"
      },
      "execution_count": null,
      "outputs": [
        {
          "output_type": "stream",
          "name": "stdout",
          "text": [
            "\u001b[1m10/10\u001b[0m \u001b[32m━━━━━━━━━━━━━━━━━━━━\u001b[0m\u001b[37m\u001b[0m \u001b[1m0s\u001b[0m 2ms/step \n",
            "Accuracy: 0.8690095846645367\n",
            "Recall: 0.8293221018852788\n",
            "Precision: 0.7136351808482956\n",
            "F1 Score: 0.7499074308654727\n"
          ]
        }
      ]
    },
    {
      "cell_type": "code",
      "source": [
        "print(classification_report(test_y, y_pred))"
      ],
      "metadata": {
        "colab": {
          "base_uri": "https://localhost:8080/"
        },
        "id": "cvgeuAmqtJWN",
        "outputId": "5527e100-6cdc-4940-d527-3c1c04ab909f"
      },
      "execution_count": null,
      "outputs": [
        {
          "output_type": "stream",
          "name": "stdout",
          "text": [
            "              precision    recall  f1-score   support\n",
            "\n",
            "    negative       0.46      0.78      0.58        36\n",
            "    positive       0.97      0.88      0.92       277\n",
            "\n",
            "    accuracy                           0.87       313\n",
            "   macro avg       0.71      0.83      0.75       313\n",
            "weighted avg       0.91      0.87      0.88       313\n",
            "\n"
          ]
        }
      ]
    },
    {
      "cell_type": "code",
      "source": [
        "conf_mat = confusion_matrix(y_true, y_pred)\n",
        "\n",
        "row_sums = conf_mat.sum(axis=1)\n",
        "\n",
        "norm_conf_mat = conf_mat / row_sums[:, np.newaxis]\n",
        "\n",
        "# Tạo nhãn cho mỗi ô\n",
        "labels = [f'{val:.2f}' for val in norm_conf_mat.flatten()]\n",
        "labels = np.asarray(labels).reshape(norm_conf_mat.shape)\n",
        "\n",
        "plt.figure(figsize=(5,4))\n",
        "sns.heatmap(norm_conf_mat, annot=labels, fmt='', cmap='Blues')\n",
        "plt.xlabel('Predicted')\n",
        "plt.ylabel('Actual')\n",
        "plt.title('LSTM Confusion Matrix')\n",
        "plt.show()"
      ],
      "metadata": {
        "colab": {
          "base_uri": "https://localhost:8080/",
          "height": 410
        },
        "id": "plgQ_DJpW8GY",
        "outputId": "96a2c87d-5bd3-4459-a361-b9c6a3c39401"
      },
      "execution_count": null,
      "outputs": [
        {
          "output_type": "display_data",
          "data": {
            "text/plain": [
              "<Figure size 500x400 with 2 Axes>"
            ],
            "image/png": "[encoded data removed]"
          },
          "metadata": {}
        }
      ]
    }
  ],
  "metadata": {
    "colab": {
      "provenance": [],
      "collapsed_sections": [
        "nNI9OHotFApU",
        "vvH2BHB0FFD5",
        "71W88TukItn4",
        "tprpzdHhp9G2"
      ]
    },
    "kernelspec": {
      "display_name": "Python 3",
      "name": "python3"
    },
    "language_info": {
      "name": "python"
    }
  },
  "nbformat": 4,
  "nbformat_minor": 0
}